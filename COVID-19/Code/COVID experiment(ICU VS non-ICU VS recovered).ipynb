{
 "cells": [
  {
   "cell_type": "code",
   "execution_count": 1,
   "metadata": {},
   "outputs": [],
   "source": [
    "import numpy as np\n",
    "import pandas as pd\n",
    "import matplotlib.pyplot as plt\n",
    "import anndata as ad\n",
    "from matplotlib import rcParams\n",
    "import scanpy as sc\n",
    "import random\n",
    "import FlowCal\n",
    "import warnings\n",
    "from sklearn import model_selection, neighbors, linear_model\n",
    "import glob\n",
    "import csv\n",
    "from sklearn.svm import LinearSVC\n",
    "from sklearn.feature_selection import SelectFromModel\n",
    "from scipy.stats import spearmanr, pearsonr\n",
    "import plotly.graph_objects as go\n",
    "from IPython.display import Image\n",
    "warnings.filterwarnings(\"ignore\")"
   ]
  },
  {
   "cell_type": "markdown",
   "metadata": {},
   "source": [
    "#### Read in CSV file(data)"
   ]
  },
  {
   "cell_type": "code",
   "execution_count": 2,
   "metadata": {},
   "outputs": [],
   "source": [
    "ICU_patients_datas = []\n",
    "ICU_patients_datas_validation = []\n",
    "non_ICU_patients_datas = []\n",
    "non_ICU_patients_datas_validation = []\n",
    "recovered_patients_datas = []\n",
    "recovered_patients_datas_validation = []\n",
    "\n",
    "with open('ICU_patients_datas.csv', mode ='r')as file: \n",
    "    csvFile = csv.reader(file)\n",
    "    for line in csvFile:\n",
    "        ICU_patients_datas.append(line)\n",
    "ICU_patients_datas = np.array(ICU_patients_datas)\n",
    "\n",
    "with open('ICU_patients_datas_validation.csv', mode ='r')as file: \n",
    "    csvFile = csv.reader(file)\n",
    "    for line in csvFile:\n",
    "        ICU_patients_datas_validation.append(line)\n",
    "ICU_patients_datas_validation = np.array(ICU_patients_datas_validation)\n",
    "\n",
    "with open('non_ICU_patients_datas.csv', mode ='r')as file: \n",
    "    csvFile = csv.reader(file)\n",
    "    for line in csvFile:\n",
    "        non_ICU_patients_datas.append(line)\n",
    "non_ICU_patients_datas = np.array(non_ICU_patients_datas)\n",
    "\n",
    "with open('non_ICU_patients_datas_validation.csv', mode ='r')as file: \n",
    "    csvFile = csv.reader(file)\n",
    "    for line in csvFile:\n",
    "        non_ICU_patients_datas_validation.append(line)\n",
    "non_ICU_patients_datas_validation = np.array(non_ICU_patients_datas_validation)\n",
    "\n",
    "with open('recovered_patients_datas.csv', mode ='r')as file: \n",
    "    csvFile = csv.reader(file)\n",
    "    for line in csvFile:\n",
    "        recovered_patients_datas.append(line)\n",
    "recovered_patients_datas = np.array(recovered_patients_datas)\n",
    "\n",
    "with open('recovered_patients_datas_validation.csv', mode ='r')as file: \n",
    "    csvFile = csv.reader(file)\n",
    "    for line in csvFile:\n",
    "        recovered_patients_datas_validation.append(line)\n",
    "recovered_patients_datas_validation = np.array(recovered_patients_datas_validation)"
   ]
  },
  {
   "cell_type": "markdown",
   "metadata": {},
   "source": [
    "#### Get cell name array"
   ]
  },
  {
   "cell_type": "code",
   "execution_count": 2,
   "metadata": {},
   "outputs": [
    {
     "name": "stdout",
     "output_type": "stream",
     "text": [
      "['Y89Di' 'Pd102Di' 'Pd104Di' 'Pd105Di' 'Pd106Di' 'Pd108Di' 'Cd110Di'\n",
      " 'Cd111Di' 'Cd112Di' 'Cd113Di' 'Cd114Di' 'In115Di' 'Cd116Di' 'Xe131Di'\n",
      " 'Cs133Di' 'Ce140Di' 'Pr141Di' 'Nd142Di' 'Nd143Di' 'Nd144Di' 'Nd145Di'\n",
      " 'Nd146Di' 'Sm147Di' 'Nd148Di' 'Sm149Di' 'Nd150Di' 'Eu151Di' 'Sm152Di'\n",
      " 'Eu153Di' 'Gd154Di' 'Gd155Di' 'Gd156Di' 'Gd157Di' 'Gd158Di' 'Tb159Di'\n",
      " 'Gd160Di' 'Dy161Di' 'Dy162Di' 'Dy163Di' 'Dy164Di' 'Ho165Di' 'Er166Di'\n",
      " 'Er167Di' 'Er168Di' 'Tm169Di' 'Er170Di' 'Yb171Di' 'Yb172Di' 'Yb173Di'\n",
      " 'Yb174Di' 'Lu175Di' 'Yb176Di' 'Ir191Di' 'Ir193Di' 'Pt194Di' 'Pt195Di'\n",
      " 'Pt196Di' 'Pt198Di' 'Bi209Di']\n"
     ]
    }
   ],
   "source": [
    "results_file = 'COV-26_20200414_d_A1.fcs'\n",
    "adata = FlowCal.io.FCSData(results_file)\n",
    "cell_names = np.array(adata.channels[2:-4])\n",
    "print(cell_names)"
   ]
  },
  {
   "cell_type": "markdown",
   "metadata": {},
   "source": [
    "#### Make marker-cell dictionary"
   ]
  },
  {
   "cell_type": "code",
   "execution_count": 4,
   "metadata": {},
   "outputs": [],
   "source": [
    "marker_cell_dict = {}\n",
    "CD_marker_to_cell = {}\n",
    "\n",
    "with open('marker names.csv', mode ='r')as file: \n",
    "    csvFile = csv.reader(file)\n",
    "    for line in csvFile:\n",
    "        marker_cell_dict[line[0]] = line[1]\n",
    "\n",
    "with open('CD markers to cell names.csv', mode ='r')as file: \n",
    "    csvFile = csv.reader(file)\n",
    "    for line in csvFile:\n",
    "        CD_marker_to_cell[line[0]] = line[1]\n",
    "\n",
    "for cell_name in cell_names:\n",
    "    if (not cell_name in marker_cell_dict):\n",
    "        marker_cell_dict[cell_name] = \"Null\"\n",
    "\n",
    "CD_marker_to_cell[\"Null\"] = \"Unknown\""
   ]
  },
  {
   "cell_type": "markdown",
   "metadata": {},
   "source": [
    "#### Get training set database and label"
   ]
  },
  {
   "cell_type": "code",
   "execution_count": 5,
   "metadata": {},
   "outputs": [],
   "source": [
    "database = []\n",
    "label = []\n",
    "for patient in ICU_patients_datas:\n",
    "    database.append(patient)\n",
    "for patient in non_ICU_patients_datas:\n",
    "    database.append(patient)\n",
    "for patient in recovered_patients_datas:\n",
    "    database.append(patient)\n",
    "    \n",
    "for i in range(0, ICU_patients_datas.shape[0]):\n",
    "    label.append('ICU')\n",
    "for i in range(0, non_ICU_patients_datas.shape[0]):\n",
    "    label.append('non-ICU')\n",
    "for i in range(0, recovered_patients_datas.shape[0]):\n",
    "    label.append('recovered')\n",
    "    \n",
    "database = np.array(database)\n",
    "label = np.array(label)"
   ]
  },
  {
   "cell_type": "markdown",
   "metadata": {},
   "source": [
    "#### First, optimize n_neighbor with no feature selection"
   ]
  },
  {
   "cell_type": "markdown",
   "metadata": {},
   "source": [
    "#### Use 6 folds so that each test set contains at least 1 non-ICU patient"
   ]
  },
  {
   "cell_type": "code",
   "execution_count": 6,
   "metadata": {},
   "outputs": [],
   "source": [
    "# Convert string label to int label\n",
    "label_int = []\n",
    "for i in range(0, ICU_patients_datas.shape[0]):\n",
    "    label_int.append(0) # \"ICU\" = 0\n",
    "for i in range(0, non_ICU_patients_datas.shape[0]):\n",
    "    label_int.append(1) # \"non-ICU\" = 1\n",
    "for i in range(0, recovered_patients_datas.shape[0]):\n",
    "    label_int.append(2) # recovered\" = 2"
   ]
  },
  {
   "cell_type": "markdown",
   "metadata": {},
   "source": [
    "#### Then do a demension reduction(LASSO)"
   ]
  },
  {
   "cell_type": "code",
   "execution_count": 7,
   "metadata": {},
   "outputs": [
    {
     "name": "stdout",
     "output_type": "stream",
     "text": [
      "Before feature selection: 59 features\n",
      "After feature selection: 41 features\n"
     ]
    }
   ],
   "source": [
    "lasso = linear_model.Lasso(alpha=0.2, fit_intercept = True, normalize = False).fit(database, label_int)\n",
    "model_lasso = SelectFromModel(lasso, prefit=True)\n",
    "lasso_new = model_lasso.transform(database)\n",
    "print(\"Before feature selection: \" + str(database.shape[1]) + \" features\")\n",
    "print(\"After feature selection: \" + str(lasso_new.shape[1]) + \" features\")"
   ]
  },
  {
   "cell_type": "markdown",
   "metadata": {},
   "source": [
    "#### Get the ranking of the affect coefficients(absolute value) for LASSO"
   ]
  },
  {
   "cell_type": "code",
   "execution_count": 8,
   "metadata": {},
   "outputs": [
    {
     "data": {
      "image/png": "[encoded data removed]",
      "text/plain": [
       "<Figure size 1332x756 with 1 Axes>"
      ]
     },
     "metadata": {
      "needs_background": "light"
     },
     "output_type": "display_data"
    },
    {
     "name": "stdout",
     "output_type": "stream",
     "text": [
      "The ranking of the affect coefficients(absolute value) for LASSO is:\n",
      "1. Dy164Di(CCR3: Unknown): 0.015233592969199728\n",
      "2. Eu153Di(CD1c: T Cell/ B Cell/ Dendritic Cell/ Macrophage): 0.012428325056657002\n",
      "3. Er167Di(Er167Di: Unknown): 0.010168488795962782\n",
      "4. Tm169Di(PPARg: Unknown): 0.007918847246251384\n",
      "5. Cd112Di(Null: Unknown): 0.005481036427697278\n",
      "6. Cd114Di(Null: Unknown): 0.004584842597260115\n",
      "7. Yb171Di(CD68: T Cell/ B Cell/ Dendritic Cell/ Stem Cell/ Macrophage/ Granulocyte): 0.004228224714328943\n",
      "8. Nd150Di(Nd150Di: Unknown): 0.003365346329934662\n",
      "9. Gd160Di(CD14: Macrophage/ Granulocyte): 0.003187463762232228\n",
      "10. Pt198Di(Null: Unknown): 0.0031005642839893755\n",
      "11. Lu175Di(PD-L1: Unknown): 0.0030557684177636843\n",
      "12. Nd144Di(CD141: Macrophage/ Granulocyte/ Platelet/ Endothelial Cell/ Epithelial Cell): 0.0029064576132497378\n",
      "13. Er166Di(CD24: B Cell/ Granulocyte/ Epithelial Cell): 0.002522947942133873\n",
      "14. Gd155Di(Gd155Di: Unknown): 0.0021164819411685857\n",
      "15. Sm147Di(Gata6: Unknown): 0.0019350920736461805\n",
      "16. Er170Di(CD3: T Cell): 0.0017981285165135866\n",
      "17. Dy161Di(Dy161Di: Unknown): 0.0016672406406143168\n",
      "18. Nd145Di(PE-CCR2: Unknown): 0.0010724722098394341\n",
      "19. Eu151Di(CD123: Dendritic Cell/ Stem Cell/ Granulocyte/ ): 0.0010505788770320725\n",
      "20. Dy162Di(CD11c: T Cell/ B Cell/ Dendritic Cell/ NK Cell/ Macrophage/ Granulocyte): 0.0010470416180819065\n",
      "21. Pt194Di(Null: Unknown): 0.0010211563531794246\n",
      "22. In115Di(CD45_115: T Cell/ B Cell/ Dendritic Cell/ NK Cell/ Stem Cell/ Macrophage/ Granulocyte): 0.0009569930591526328\n",
      "23. Bi209Di(Null: Unknown): 0.0008620903809577219\n",
      "24. Yb176Di(CD56: T Cell/ NK Cell): 0.0008318986130785484\n",
      "25. Pd105Di(Null: Unknown): 0.0008089413731074722\n",
      "26. Pd106Di(Null: Unknown): 0.0007479654642586883\n",
      "27. Yb173Di(Yb173Di: Unknown): 0.0006841098015845629\n",
      "28. Pd102Di(Null: Unknown): 0.0005562026416191082\n",
      "29. Pt195Di(Cisplatin: Unknown): 0.0005402761340479355\n",
      "30. Yb174Di(HLADR: Unknown): 0.0003393997468242312\n",
      "31. Gd157Di(Null: Unknown): 0.00033313750584774\n",
      "32. Gd156Di(CD86: T Cell/ B Cell/ Dendritic Cell/ Macrophage/ Endothelial Cell): 0.00032434343577015205\n",
      "33. Ir193Di(DNA: Unknown): 0.0002962563981341929\n",
      "34. Ho165Di(CD116: Dendritic Cell/ Macrophage/ Granulocyte): 0.0002648285498401399\n",
      "35. Pd104Di(Null: Unknown): 0.00014713401913254745\n",
      "36. Gd158Di(CD33: Dendritic Cell/ Stem Cell/ Macrophage/ Granulocyte): 0.00011829305732076149\n",
      "37. Yb172Di(CD11b: T Cell/ B Cell/ Dendritic Cell/ NK Cell/ Macrophage/ Granulocyte): 9.603173683938394e-05\n",
      "38. Nd148Di(CD16: T Cell/ Dendritic Cell/ NK Cell/ Macrophage/ Granulocyte): 7.315120848396694e-05\n",
      "39. Ce140Di(Ce140Di: Unknown): 5.926811056539115e-05\n",
      "40. Pt196Di(Null: Unknown): 5.402091452072911e-05\n",
      "41. Pd108Di(Null: Unknown): 4.66136189796522e-05\n",
      "42. Y89Di(CD45_89: T Cell/ B Cell/ Dendritic Cell/ NK Cell/ Stem Cell/ Macrophage/ Granulocyte): 0.0\n",
      "42. Xe131Di(Xe131Di: Unknown): 0.0\n",
      "42. Tb159Di(CD45_159: T Cell/ B Cell/ Dendritic Cell/ NK Cell/ Stem Cell/ Macrophage/ Granulocyte): 0.0\n",
      "42. Sm152Di(CD66b: Granulocyte): 0.0\n",
      "42. Sm149Di(Sm149Di: Unknown): 0.0\n",
      "42. Pr141Di(HLA-ABC: Unknown): 0.0\n",
      "42. Nd146Di(CD64: Dendritic Cell/ Stem Cell/ Macrophage/ Granulocyte): 0.0\n",
      "42. Nd143Di(CD117: Stem Cell): 0.0\n",
      "42. Nd142Di(CD19: B Cell): 0.0\n",
      "42. Ir191Di(DNA: Unknown): 0.0\n",
      "42. Gd154Di(Null: Unknown): 0.0\n",
      "42. Er168Di(CD206: Dendritic Cell/ Macrophage/ Endothelial Cell/  Epithelial Cell): 0.0\n",
      "42. Dy163Di(APC-CD115: Unknown): 0.0\n",
      "42. Cs133Di(Cs133Di: Unknown): 0.0\n",
      "42. Cd116Di(Null: Unknown): 0.0\n",
      "42. Cd113Di(Null: Unknown): 0.0\n",
      "42. Cd111Di(Null: Unknown): 0.0\n",
      "42. Cd110Di(Null: Unknown): 0.0\n"
     ]
    }
   ],
   "source": [
    "lasso_dict = {}\n",
    "name = []\n",
    "coef = []\n",
    "for i in range(0, cell_names.shape[0]): \n",
    "    lasso_dict[cell_names[i]] = abs(lasso.coef_[i])\n",
    "affect_coef = sorted(lasso_dict.items(), key = lambda kv:(kv[1], kv[0]), reverse = True)\n",
    "for i in range(0, len(affect_coef)):\n",
    "    if (affect_coef[i][1] != 0):\n",
    "        name.append(affect_coef[i][0] + \"(\" + marker_cell_dict[affect_coef[i][0]] + \": \" + CD_marker_to_cell[marker_cell_dict[affect_coef[i][0]]] + \")\")\n",
    "        coef.append(affect_coef[i][1])\n",
    "    else:\n",
    "        name.append(affect_coef[i][0] + \"(\" + marker_cell_dict[affect_coef[i][0]] + \": \" + CD_marker_to_cell[marker_cell_dict[affect_coef[i][0]]] + \")\" + \"(0 coef)\")\n",
    "        coef.append(affect_coef[i][1])\n",
    "\n",
    "# Plot the Ranking\n",
    "x_label = np.arange(1, 60, 1)\n",
    "color = []\n",
    "for i in range(0, len(coef)):\n",
    "    if (coef[i] != 0):\n",
    "        color.append('green')\n",
    "    else:\n",
    "        color.append('red')\n",
    "fig, axs = plt.subplots(1, sharex=True, sharey=False)\n",
    "fig.set_size_inches(18.5, 10.5)\n",
    "axs.scatter(x_label, coef, color = color)\n",
    "plt.title(\"Ranking of The Affect Coefficients(Absolute Value) for LASSO\", fontsize = 20)\n",
    "plt.ylabel('Coefficient', size = 20)\n",
    "plt.xlabel('Ranking', size = 20)\n",
    "plt.xticks(fontsize = 20)\n",
    "plt.yticks(fontsize = 20)\n",
    "plt.show()\n",
    "\n",
    "# List detailed numbers and cell names\n",
    "print(\"The ranking of the affect coefficients(absolute value) for LASSO is:\")\n",
    "zero_position = 0\n",
    "for i in range(0, len(affect_coef)):\n",
    "    if (affect_coef[i][1] != 0):\n",
    "        print(str(i + 1) + \". \" + str(affect_coef[i][0]) + \"(\" + marker_cell_dict[affect_coef[i][0]] + \": \" + CD_marker_to_cell[marker_cell_dict[affect_coef[i][0]]] + \")\" + \": \" + str(affect_coef[i][1]))\n",
    "    else:\n",
    "        if (affect_coef[i - 1][1] != 0):\n",
    "            zero_position = i + 1\n",
    "            print(str(i + 1) + \". \" + str(affect_coef[i][0]) + \"(\" + marker_cell_dict[affect_coef[i][0]] + \": \" + CD_marker_to_cell[marker_cell_dict[affect_coef[i][0]]] + \")\" + \": \" + str(affect_coef[i][1]))\n",
    "        else:\n",
    "            print(str(zero_position) + \". \" + str(affect_coef[i][0]) + \"(\" + marker_cell_dict[affect_coef[i][0]] + \": \" + CD_marker_to_cell[marker_cell_dict[affect_coef[i][0]]] + \")\" + \": \" + str(affect_coef[i][1]))"
   ]
  },
  {
   "cell_type": "markdown",
   "metadata": {},
   "source": [
    "#### do another demension reduction(LinearSVC)"
   ]
  },
  {
   "cell_type": "code",
   "execution_count": 12,
   "metadata": {},
   "outputs": [
    {
     "name": "stdout",
     "output_type": "stream",
     "text": [
      "Before feature selection: 59 features\n",
      "After feature selection: 23 features\n",
      "[[ 0.          0.00011649  0.00382206 -0.00249063 -0.00116613 -0.00114452\n",
      "   0.          0.          0.          0.          0.          0.\n",
      "   0.          0.          0.         -0.0065371   0.          0.\n",
      "   0.          0.          0.          0.         -0.00102064  0.00130501\n",
      "   0.          0.0005162  -0.00029075  0.          0.          0.\n",
      "   0.          0.         -0.00099496  0.00429101  0.          0.\n",
      "   0.          0.          0.          0.          0.00094191  0.\n",
      "   0.          0.00191844 -0.01209607  0.01202692  0.          0.\n",
      "   0.          0.00332574  0.          0.          0.         -0.00062462\n",
      "   0.          0.          0.          0.          0.        ]\n",
      " [ 0.         -0.00194369  0.          0.00369899  0.00337786  0.00183194\n",
      "   0.          0.          0.          0.          0.          0.\n",
      "   0.          0.          0.          0.00022803  0.          0.\n",
      "   0.          0.          0.          0.          0.          0.\n",
      "   0.          0.          0.00365289  0.          0.          0.\n",
      "   0.          0.          0.0007605  -0.00296127  0.          0.\n",
      "   0.          0.          0.          0.          0.         -0.00257494\n",
      "   0.          0.          0.         -0.0004194   0.          0.00202218\n",
      "   0.         -0.00864677  0.          0.          0.         -0.00034085\n",
      "   0.          0.          0.          0.          0.        ]\n",
      " [ 0.          0.         -0.00144883  0.00038728  0.          0.\n",
      "   0.          0.          0.          0.          0.          0.\n",
      "   0.          0.          0.          0.00048224  0.          0.\n",
      "   0.          0.          0.          0.          0.00189975 -0.00248335\n",
      "   0.         -0.00379341  0.          0.          0.          0.\n",
      "   0.          0.          0.          0.          0.          0.\n",
      "   0.         -0.00011104  0.          0.          0.          0.\n",
      "   0.          0.          0.01173329 -0.01534045  0.          0.\n",
      "   0.          0.          0.          0.          0.00052246  0.00036397\n",
      "   0.          0.          0.          0.         -0.00023838]]\n"
     ]
    }
   ],
   "source": [
    "svc = LinearSVC(C=0.01, penalty=\"l1\", dual=False).fit(database, label_int)\n",
    "model_svc = SelectFromModel(svc, prefit=True)\n",
    "svc_new = model_svc.transform(database)\n",
    "print(\"Before feature selection: \" + str(database.shape[1]) + \" features\")\n",
    "print(\"After feature selection: \" + str(svc_new.shape[1]) + \" features\")\n",
    "print(svc.coef_)"
   ]
  },
  {
   "cell_type": "markdown",
   "metadata": {},
   "source": [
    "#### Get the ranking of the affect coefficients(absolute value) for LinearSVC"
   ]
  },
  {
   "cell_type": "code",
   "execution_count": 13,
   "metadata": {},
   "outputs": [
    {
     "data": {
      "image/png": "[encoded data removed]",
      "text/plain": [
       "<Figure size 1332x756 with 1 Axes>"
      ]
     },
     "metadata": {
      "needs_background": "light"
     },
     "output_type": "display_data"
    },
    {
     "name": "stdout",
     "output_type": "stream",
     "text": [
      "The ranking of the affect coefficients(absolute value) for LinearSVC(ICU) is:\n",
      "1. Tm169Di(PPARg: Unknown): 0.01209607377611364\n",
      "2. Er170Di(CD3: T Cell): 0.012026916555148887\n",
      "3. Ce140Di(Ce140Di: Unknown): 0.0065370962271740045\n",
      "4. Gd158Di(CD33: Dendritic Cell/ Stem Cell/ Macrophage/ Granulocyte): 0.004291012311329205\n",
      "5. Pd104Di(Null: Unknown): 0.003822056343188242\n",
      "6. Yb174Di(HLADR: Unknown): 0.0033257438787553\n",
      "7. Pd105Di(Null: Unknown): 0.00249062782219204\n",
      "8. Er168Di(CD206: Dendritic Cell/ Macrophage/ Endothelial Cell/  Epithelial Cell): 0.0019184383094840985\n",
      "9. Nd148Di(CD16: T Cell/ Dendritic Cell/ NK Cell/ Macrophage/ Granulocyte): 0.0013050102395076458\n",
      "10. Pd106Di(Null: Unknown): 0.0011661264444355445\n",
      "11. Pd108Di(Null: Unknown): 0.0011445173713708066\n",
      "12. Sm147Di(Gata6: Unknown): 0.0010206364557168786\n",
      "13. Gd157Di(Null: Unknown): 0.000994957479106479\n",
      "14. Ho165Di(CD116: Dendritic Cell/ Macrophage/ Granulocyte): 0.0009419072423950288\n",
      "15. Ir193Di(DNA: Unknown): 0.0006246176686701274\n",
      "16. Nd150Di(Nd150Di: Unknown): 0.0005162039148496819\n",
      "17. Eu151Di(CD123: Dendritic Cell/ Stem Cell/ Granulocyte/ ): 0.000290748971947868\n",
      "18. Pd102Di(Null: Unknown): 0.00011648682470018024\n",
      "19. Yb176Di(CD56: T Cell/ NK Cell): 0.0\n",
      "19. Yb173Di(Yb173Di: Unknown): 0.0\n",
      "19. Yb172Di(CD11b: T Cell/ B Cell/ Dendritic Cell/ NK Cell/ Macrophage/ Granulocyte): 0.0\n",
      "19. Yb171Di(CD68: T Cell/ B Cell/ Dendritic Cell/ Stem Cell/ Macrophage/ Granulocyte): 0.0\n",
      "19. Y89Di(CD45_89: T Cell/ B Cell/ Dendritic Cell/ NK Cell/ Stem Cell/ Macrophage/ Granulocyte): 0.0\n",
      "19. Xe131Di(Xe131Di: Unknown): 0.0\n",
      "19. Tb159Di(CD45_159: T Cell/ B Cell/ Dendritic Cell/ NK Cell/ Stem Cell/ Macrophage/ Granulocyte): 0.0\n",
      "19. Sm152Di(CD66b: Granulocyte): 0.0\n",
      "19. Sm149Di(Sm149Di: Unknown): 0.0\n",
      "19. Pt198Di(Null: Unknown): 0.0\n",
      "19. Pt196Di(Null: Unknown): 0.0\n",
      "19. Pt195Di(Cisplatin: Unknown): 0.0\n",
      "19. Pt194Di(Null: Unknown): 0.0\n",
      "19. Pr141Di(HLA-ABC: Unknown): 0.0\n",
      "19. Nd146Di(CD64: Dendritic Cell/ Stem Cell/ Macrophage/ Granulocyte): 0.0\n",
      "19. Nd145Di(PE-CCR2: Unknown): 0.0\n",
      "19. Nd144Di(CD141: Macrophage/ Granulocyte/ Platelet/ Endothelial Cell/ Epithelial Cell): 0.0\n",
      "19. Nd143Di(CD117: Stem Cell): 0.0\n",
      "19. Nd142Di(CD19: B Cell): 0.0\n",
      "19. Lu175Di(PD-L1: Unknown): 0.0\n",
      "19. Ir191Di(DNA: Unknown): 0.0\n",
      "19. In115Di(CD45_115: T Cell/ B Cell/ Dendritic Cell/ NK Cell/ Stem Cell/ Macrophage/ Granulocyte): 0.0\n",
      "19. Gd160Di(CD14: Macrophage/ Granulocyte): 0.0\n",
      "19. Gd156Di(CD86: T Cell/ B Cell/ Dendritic Cell/ Macrophage/ Endothelial Cell): 0.0\n",
      "19. Gd155Di(Gd155Di: Unknown): 0.0\n",
      "19. Gd154Di(Null: Unknown): 0.0\n",
      "19. Eu153Di(CD1c: T Cell/ B Cell/ Dendritic Cell/ Macrophage): 0.0\n",
      "19. Er167Di(Er167Di: Unknown): 0.0\n",
      "19. Er166Di(CD24: B Cell/ Granulocyte/ Epithelial Cell): 0.0\n",
      "19. Dy164Di(CCR3: Unknown): 0.0\n",
      "19. Dy163Di(APC-CD115: Unknown): 0.0\n",
      "19. Dy162Di(CD11c: T Cell/ B Cell/ Dendritic Cell/ NK Cell/ Macrophage/ Granulocyte): 0.0\n",
      "19. Dy161Di(Dy161Di: Unknown): 0.0\n",
      "19. Cs133Di(Cs133Di: Unknown): 0.0\n",
      "19. Cd116Di(Null: Unknown): 0.0\n",
      "19. Cd114Di(Null: Unknown): 0.0\n",
      "19. Cd113Di(Null: Unknown): 0.0\n",
      "19. Cd112Di(Null: Unknown): 0.0\n",
      "19. Cd111Di(Null: Unknown): 0.0\n",
      "19. Cd110Di(Null: Unknown): 0.0\n",
      "19. Bi209Di(Null: Unknown): 0.0\n"
     ]
    }
   ],
   "source": [
    "# LinearSVC(ICU)\n",
    "svc_dict = {}\n",
    "name_icu = []\n",
    "coef = []\n",
    "for i in range(0, cell_names.shape[0]): \n",
    "    svc_dict[cell_names[i]] = abs(svc.coef_[0][i])\n",
    "affect_coef = sorted(svc_dict.items(), key = lambda kv:(kv[1], kv[0]), reverse = True)\n",
    "for i in range(0, len(affect_coef)):\n",
    "    if (affect_coef[i][1] != 0):\n",
    "        name_icu.append(affect_coef[i][0] + \"(\" + marker_cell_dict[affect_coef[i][0]] + \": \" + CD_marker_to_cell[marker_cell_dict[affect_coef[i][0]]] + \")\")\n",
    "        coef.append(affect_coef[i][1])\n",
    "    else:\n",
    "        name_icu.append(affect_coef[i][0] + \"(\" + marker_cell_dict[affect_coef[i][0]] + \": \" + CD_marker_to_cell[marker_cell_dict[affect_coef[i][0]]] + \")\" + \"(0 coef)\")\n",
    "        coef.append(affect_coef[i][1])\n",
    "\n",
    "# Plot the Ranking\n",
    "x_label = np.arange(1, 60, 1)\n",
    "color = []\n",
    "for i in range(0, len(coef)):\n",
    "    if (coef[i] != 0):\n",
    "        color.append('green')\n",
    "    else:\n",
    "        color.append('red')\n",
    "fig, axs = plt.subplots(1, sharex=True, sharey=False)\n",
    "fig.set_size_inches(18.5, 10.5)\n",
    "axs.scatter(x_label, coef, color = color)\n",
    "plt.title(\"Ranking of The Affect Coefficients(Absolute Value) for LinearSVC(ICU)\", fontsize = 20)\n",
    "plt.ylabel('Coefficient', size = 20)\n",
    "plt.xlabel('Ranking', size = 20)\n",
    "plt.xticks(fontsize = 20)\n",
    "plt.yticks(fontsize = 20)\n",
    "plt.show()\n",
    "\n",
    "# List detailed numbers and cell names\n",
    "print(\"The ranking of the affect coefficients(absolute value) for LinearSVC(ICU) is:\")\n",
    "zero_position = 0\n",
    "for i in range(0, len(affect_coef)):\n",
    "    if (affect_coef[i][1] != 0):\n",
    "        print(str(i + 1) + \". \" + str(affect_coef[i][0]) + \"(\" + marker_cell_dict[affect_coef[i][0]] + \": \" + CD_marker_to_cell[marker_cell_dict[affect_coef[i][0]]] + \")\" + \": \" + str(affect_coef[i][1]))\n",
    "    else:\n",
    "        if (affect_coef[i - 1][1] != 0):\n",
    "            zero_position = i + 1\n",
    "            print(str(i + 1) + \". \" + str(affect_coef[i][0]) + \"(\" + marker_cell_dict[affect_coef[i][0]] + \": \" + CD_marker_to_cell[marker_cell_dict[affect_coef[i][0]]] + \")\" + \": \" + str(affect_coef[i][1]))\n",
    "        else:\n",
    "            print(str(zero_position) + \". \" + str(affect_coef[i][0]) + \"(\" + marker_cell_dict[affect_coef[i][0]] + \": \" + CD_marker_to_cell[marker_cell_dict[affect_coef[i][0]]] + \")\" + \": \" + str(affect_coef[i][1]))"
   ]
  },
  {
   "cell_type": "code",
   "execution_count": 17,
   "metadata": {},
   "outputs": [
    {
     "data": {
      "image/png": "[encoded data removed]",
      "text/plain": [
       "<Figure size 1332x756 with 1 Axes>"
      ]
     },
     "metadata": {
      "needs_background": "light"
     },
     "output_type": "display_data"
    },
    {
     "name": "stdout",
     "output_type": "stream",
     "text": [
      "The ranking of the affect coefficients(absolute value) for LinearSVC(non-ICU) is:\n",
      "1. Yb174Di(HLADR: Unknown): 0.008646770445728393\n",
      "2. Pd105Di(Null: Unknown): 0.0036989899358736327\n",
      "3. Eu151Di(CD123: Dendritic Cell/ Stem Cell/ Granulocyte/ ): 0.0036528900435690353\n",
      "4. Pd106Di(Null: Unknown): 0.0033778613259501447\n",
      "5. Gd158Di(CD33: Dendritic Cell/ Stem Cell/ Macrophage/ Granulocyte): 0.0029612717506297703\n",
      "6. Er166Di(CD24: B Cell/ Granulocyte/ Epithelial Cell): 0.0025749386633228274\n",
      "7. Yb172Di(CD11b: T Cell/ B Cell/ Dendritic Cell/ NK Cell/ Macrophage/ Granulocyte): 0.0020221779926498395\n",
      "8. Pd102Di(Null: Unknown): 0.0019436902143098282\n",
      "9. Pd108Di(Null: Unknown): 0.0018319406363482382\n",
      "10. Gd157Di(Null: Unknown): 0.0007604969509727022\n",
      "11. Er170Di(CD3: T Cell): 0.0004193982521650905\n",
      "12. Ir193Di(DNA: Unknown): 0.00034084718466432303\n",
      "13. Ce140Di(Ce140Di: Unknown): 0.0002280266794012157\n",
      "14. Yb176Di(CD56: T Cell/ NK Cell): 0.0\n",
      "14. Yb173Di(Yb173Di: Unknown): 0.0\n",
      "14. Yb171Di(CD68: T Cell/ B Cell/ Dendritic Cell/ Stem Cell/ Macrophage/ Granulocyte): 0.0\n",
      "14. Y89Di(CD45_89: T Cell/ B Cell/ Dendritic Cell/ NK Cell/ Stem Cell/ Macrophage/ Granulocyte): 0.0\n",
      "14. Xe131Di(Xe131Di: Unknown): 0.0\n",
      "14. Tm169Di(PPARg: Unknown): 0.0\n",
      "14. Tb159Di(CD45_159: T Cell/ B Cell/ Dendritic Cell/ NK Cell/ Stem Cell/ Macrophage/ Granulocyte): 0.0\n",
      "14. Sm152Di(CD66b: Granulocyte): 0.0\n",
      "14. Sm149Di(Sm149Di: Unknown): 0.0\n",
      "14. Sm147Di(Gata6: Unknown): 0.0\n",
      "14. Pt198Di(Null: Unknown): 0.0\n",
      "14. Pt196Di(Null: Unknown): 0.0\n",
      "14. Pt195Di(Cisplatin: Unknown): 0.0\n",
      "14. Pt194Di(Null: Unknown): 0.0\n",
      "14. Pr141Di(HLA-ABC: Unknown): 0.0\n",
      "14. Pd104Di(Null: Unknown): 0.0\n",
      "14. Nd150Di(Nd150Di: Unknown): 0.0\n",
      "14. Nd148Di(CD16: T Cell/ Dendritic Cell/ NK Cell/ Macrophage/ Granulocyte): 0.0\n",
      "14. Nd146Di(CD64: Dendritic Cell/ Stem Cell/ Macrophage/ Granulocyte): 0.0\n",
      "14. Nd145Di(PE-CCR2: Unknown): 0.0\n",
      "14. Nd144Di(CD141: Macrophage/ Granulocyte/ Platelet/ Endothelial Cell/ Epithelial Cell): 0.0\n",
      "14. Nd143Di(CD117: Stem Cell): 0.0\n",
      "14. Nd142Di(CD19: B Cell): 0.0\n",
      "14. Lu175Di(PD-L1: Unknown): 0.0\n",
      "14. Ir191Di(DNA: Unknown): 0.0\n",
      "14. In115Di(CD45_115: T Cell/ B Cell/ Dendritic Cell/ NK Cell/ Stem Cell/ Macrophage/ Granulocyte): 0.0\n",
      "14. Ho165Di(CD116: Dendritic Cell/ Macrophage/ Granulocyte): 0.0\n",
      "14. Gd160Di(CD14: Macrophage/ Granulocyte): 0.0\n",
      "14. Gd156Di(CD86: T Cell/ B Cell/ Dendritic Cell/ Macrophage/ Endothelial Cell): 0.0\n",
      "14. Gd155Di(Gd155Di: Unknown): 0.0\n",
      "14. Gd154Di(Null: Unknown): 0.0\n",
      "14. Eu153Di(CD1c: T Cell/ B Cell/ Dendritic Cell/ Macrophage): 0.0\n",
      "14. Er168Di(CD206: Dendritic Cell/ Macrophage/ Endothelial Cell/  Epithelial Cell): 0.0\n",
      "14. Er167Di(Er167Di: Unknown): 0.0\n",
      "14. Dy164Di(CCR3: Unknown): 0.0\n",
      "14. Dy163Di(APC-CD115: Unknown): 0.0\n",
      "14. Dy162Di(CD11c: T Cell/ B Cell/ Dendritic Cell/ NK Cell/ Macrophage/ Granulocyte): 0.0\n",
      "14. Dy161Di(Dy161Di: Unknown): 0.0\n",
      "14. Cs133Di(Cs133Di: Unknown): 0.0\n",
      "14. Cd116Di(Null: Unknown): 0.0\n",
      "14. Cd114Di(Null: Unknown): 0.0\n",
      "14. Cd113Di(Null: Unknown): 0.0\n",
      "14. Cd112Di(Null: Unknown): 0.0\n",
      "14. Cd111Di(Null: Unknown): 0.0\n",
      "14. Cd110Di(Null: Unknown): 0.0\n",
      "14. Bi209Di(Null: Unknown): 0.0\n"
     ]
    }
   ],
   "source": [
    "# LinearSVC(non-ICU)\n",
    "svc_dict = {}\n",
    "name_non_icu = []\n",
    "coef = []\n",
    "for i in range(0, cell_names.shape[0]): \n",
    "    svc_dict[cell_names[i]] = abs(svc.coef_[1][i])\n",
    "affect_coef = sorted(svc_dict.items(), key = lambda kv:(kv[1], kv[0]), reverse = True)\n",
    "for i in range(0, len(affect_coef)):\n",
    "    if (affect_coef[i][1] != 0):\n",
    "        name_non_icu.append(affect_coef[i][0] + \"(\" + marker_cell_dict[affect_coef[i][0]] + \": \" + CD_marker_to_cell[marker_cell_dict[affect_coef[i][0]]] + \")\")\n",
    "        coef.append(affect_coef[i][1])\n",
    "    else:\n",
    "        name_non_icu.append(affect_coef[i][0] + \"(\" + marker_cell_dict[affect_coef[i][0]] + \": \" + CD_marker_to_cell[marker_cell_dict[affect_coef[i][0]]] + \")\" + \"(0 coef)\")\n",
    "        coef.append(affect_coef[i][1])\n",
    "\n",
    "# Plot the Ranking\n",
    "x_label = np.arange(1, 60, 1)\n",
    "color = []\n",
    "for i in range(0, len(coef)):\n",
    "    if (coef[i] != 0):\n",
    "        color.append('green')\n",
    "    else:\n",
    "        color.append('red')\n",
    "fig, axs = plt.subplots(1, sharex=True, sharey=False)\n",
    "fig.set_size_inches(18.5, 10.5)\n",
    "axs.scatter(x_label, coef, color = color)\n",
    "plt.title(\"Ranking of The Affect Coefficients(Absolute Value) for LinearSVC(non-ICU)\", fontsize = 20)\n",
    "plt.ylabel('Coefficient', size = 20)\n",
    "plt.xlabel('Ranking', size = 20)\n",
    "plt.xticks(fontsize = 20)\n",
    "plt.yticks(fontsize = 20)\n",
    "plt.show()\n",
    "\n",
    "# List detailed numbers and cell names\n",
    "print(\"The ranking of the affect coefficients(absolute value) for LinearSVC(non-ICU) is:\")\n",
    "zero_position = 0\n",
    "for i in range(0, len(affect_coef)):\n",
    "    if (affect_coef[i][1] != 0):\n",
    "        print(str(i + 1) + \". \" + str(affect_coef[i][0]) + \"(\" + marker_cell_dict[affect_coef[i][0]] + \": \" + CD_marker_to_cell[marker_cell_dict[affect_coef[i][0]]] + \")\" + \": \" + str(affect_coef[i][1]))\n",
    "    else:\n",
    "        if (affect_coef[i - 1][1] != 0):\n",
    "            zero_position = i + 1\n",
    "            print(str(i + 1) + \". \" + str(affect_coef[i][0]) + \"(\" + marker_cell_dict[affect_coef[i][0]] + \": \" + CD_marker_to_cell[marker_cell_dict[affect_coef[i][0]]] + \")\" + \": \" + str(affect_coef[i][1]))\n",
    "        else:\n",
    "            print(str(zero_position) + \". \" + str(affect_coef[i][0]) + \"(\" + marker_cell_dict[affect_coef[i][0]] + \": \" + CD_marker_to_cell[marker_cell_dict[affect_coef[i][0]]] + \")\" + \": \" + str(affect_coef[i][1]))"
   ]
  },
  {
   "cell_type": "code",
   "execution_count": 18,
   "metadata": {},
   "outputs": [
    {
     "data": {
      "image/png": "[encoded data removed]",
      "text/plain": [
       "<Figure size 1332x756 with 1 Axes>"
      ]
     },
     "metadata": {
      "needs_background": "light"
     },
     "output_type": "display_data"
    },
    {
     "name": "stdout",
     "output_type": "stream",
     "text": [
      "The ranking of the affect coefficients(absolute value) for LinearSVC(recovered) is:\n",
      "1. Er170Di(CD3: T Cell): 0.01534044739691785\n",
      "2. Tm169Di(PPARg: Unknown): 0.01173329250533198\n",
      "3. Nd150Di(Nd150Di: Unknown): 0.003793410008326369\n",
      "4. Nd148Di(CD16: T Cell/ Dendritic Cell/ NK Cell/ Macrophage/ Granulocyte): 0.002483354693824266\n",
      "5. Sm147Di(Gata6: Unknown): 0.001899751402695128\n",
      "6. Pd104Di(Null: Unknown): 0.0014488284891967316\n",
      "7. Ir191Di(DNA: Unknown): 0.0005224570053881003\n",
      "8. Ce140Di(Ce140Di: Unknown): 0.00048223518973331344\n",
      "9. Pd105Di(Null: Unknown): 0.000387284022589996\n",
      "10. Ir193Di(DNA: Unknown): 0.000363968194668147\n",
      "11. Bi209Di(Null: Unknown): 0.00023838016174108104\n",
      "12. Dy162Di(CD11c: T Cell/ B Cell/ Dendritic Cell/ NK Cell/ Macrophage/ Granulocyte): 0.00011103846158850089\n",
      "13. Yb176Di(CD56: T Cell/ NK Cell): 0.0\n",
      "13. Yb174Di(HLADR: Unknown): 0.0\n",
      "13. Yb173Di(Yb173Di: Unknown): 0.0\n",
      "13. Yb172Di(CD11b: T Cell/ B Cell/ Dendritic Cell/ NK Cell/ Macrophage/ Granulocyte): 0.0\n",
      "13. Yb171Di(CD68: T Cell/ B Cell/ Dendritic Cell/ Stem Cell/ Macrophage/ Granulocyte): 0.0\n",
      "13. Y89Di(CD45_89: T Cell/ B Cell/ Dendritic Cell/ NK Cell/ Stem Cell/ Macrophage/ Granulocyte): 0.0\n",
      "13. Xe131Di(Xe131Di: Unknown): 0.0\n",
      "13. Tb159Di(CD45_159: T Cell/ B Cell/ Dendritic Cell/ NK Cell/ Stem Cell/ Macrophage/ Granulocyte): 0.0\n",
      "13. Sm152Di(CD66b: Granulocyte): 0.0\n",
      "13. Sm149Di(Sm149Di: Unknown): 0.0\n",
      "13. Pt198Di(Null: Unknown): 0.0\n",
      "13. Pt196Di(Null: Unknown): 0.0\n",
      "13. Pt195Di(Cisplatin: Unknown): 0.0\n",
      "13. Pt194Di(Null: Unknown): 0.0\n",
      "13. Pr141Di(HLA-ABC: Unknown): 0.0\n",
      "13. Pd108Di(Null: Unknown): 0.0\n",
      "13. Pd106Di(Null: Unknown): 0.0\n",
      "13. Pd102Di(Null: Unknown): 0.0\n",
      "13. Nd146Di(CD64: Dendritic Cell/ Stem Cell/ Macrophage/ Granulocyte): 0.0\n",
      "13. Nd145Di(PE-CCR2: Unknown): 0.0\n",
      "13. Nd144Di(CD141: Macrophage/ Granulocyte/ Platelet/ Endothelial Cell/ Epithelial Cell): 0.0\n",
      "13. Nd143Di(CD117: Stem Cell): 0.0\n",
      "13. Nd142Di(CD19: B Cell): 0.0\n",
      "13. Lu175Di(PD-L1: Unknown): 0.0\n",
      "13. In115Di(CD45_115: T Cell/ B Cell/ Dendritic Cell/ NK Cell/ Stem Cell/ Macrophage/ Granulocyte): 0.0\n",
      "13. Ho165Di(CD116: Dendritic Cell/ Macrophage/ Granulocyte): 0.0\n",
      "13. Gd160Di(CD14: Macrophage/ Granulocyte): 0.0\n",
      "13. Gd158Di(CD33: Dendritic Cell/ Stem Cell/ Macrophage/ Granulocyte): 0.0\n",
      "13. Gd157Di(Null: Unknown): 0.0\n",
      "13. Gd156Di(CD86: T Cell/ B Cell/ Dendritic Cell/ Macrophage/ Endothelial Cell): 0.0\n",
      "13. Gd155Di(Gd155Di: Unknown): 0.0\n",
      "13. Gd154Di(Null: Unknown): 0.0\n",
      "13. Eu153Di(CD1c: T Cell/ B Cell/ Dendritic Cell/ Macrophage): 0.0\n",
      "13. Eu151Di(CD123: Dendritic Cell/ Stem Cell/ Granulocyte/ ): 0.0\n",
      "13. Er168Di(CD206: Dendritic Cell/ Macrophage/ Endothelial Cell/  Epithelial Cell): 0.0\n",
      "13. Er167Di(Er167Di: Unknown): 0.0\n",
      "13. Er166Di(CD24: B Cell/ Granulocyte/ Epithelial Cell): 0.0\n",
      "13. Dy164Di(CCR3: Unknown): 0.0\n",
      "13. Dy163Di(APC-CD115: Unknown): 0.0\n",
      "13. Dy161Di(Dy161Di: Unknown): 0.0\n",
      "13. Cs133Di(Cs133Di: Unknown): 0.0\n",
      "13. Cd116Di(Null: Unknown): 0.0\n",
      "13. Cd114Di(Null: Unknown): 0.0\n",
      "13. Cd113Di(Null: Unknown): 0.0\n",
      "13. Cd112Di(Null: Unknown): 0.0\n",
      "13. Cd111Di(Null: Unknown): 0.0\n",
      "13. Cd110Di(Null: Unknown): 0.0\n"
     ]
    }
   ],
   "source": [
    "# LinearSVC(recovered)\n",
    "svc_dict = {}\n",
    "name_recovered = []\n",
    "coef = []\n",
    "for i in range(0, cell_names.shape[0]): \n",
    "    svc_dict[cell_names[i]] = abs(svc.coef_[2][i])\n",
    "affect_coef = sorted(svc_dict.items(), key = lambda kv:(kv[1], kv[0]), reverse = True)\n",
    "for i in range(0, len(affect_coef)):\n",
    "    if (affect_coef[i][1] != 0):\n",
    "        name_recovered.append(affect_coef[i][0] + \"(\" + marker_cell_dict[affect_coef[i][0]] + \": \" + CD_marker_to_cell[marker_cell_dict[affect_coef[i][0]]] + \")\")\n",
    "        coef.append(affect_coef[i][1])\n",
    "    else:\n",
    "        name_recovered.append(affect_coef[i][0] + \"(\" + marker_cell_dict[affect_coef[i][0]] + \": \" + CD_marker_to_cell[marker_cell_dict[affect_coef[i][0]]] + \")\" + \"(0 coef)\")\n",
    "        coef.append(affect_coef[i][1])\n",
    "\n",
    "# Plot the Ranking\n",
    "x_label = np.arange(1, 60, 1)\n",
    "color = []\n",
    "for i in range(0, len(coef)):\n",
    "    if (coef[i] != 0):\n",
    "        color.append('green')\n",
    "    else:\n",
    "        color.append('red')\n",
    "fig, axs = plt.subplots(1, sharex=True, sharey=False)\n",
    "fig.set_size_inches(18.5, 10.5)\n",
    "axs.scatter(x_label, coef, color = color)\n",
    "plt.title(\"Ranking of The Affect Coefficients(Absolute Value) for LinearSVC(recovered)\", fontsize = 20)\n",
    "plt.ylabel('Coefficient', size = 20)\n",
    "plt.xlabel('Ranking', size = 20)\n",
    "plt.xticks(fontsize = 20)\n",
    "plt.yticks(fontsize = 20)\n",
    "plt.show()\n",
    "\n",
    "# List detailed numbers and cell names\n",
    "print(\"The ranking of the affect coefficients(absolute value) for LinearSVC(recovered) is:\")\n",
    "zero_position = 0\n",
    "for i in range(0, len(affect_coef)):\n",
    "    if (affect_coef[i][1] != 0):\n",
    "        print(str(i + 1) + \". \" + str(affect_coef[i][0]) + \"(\" + marker_cell_dict[affect_coef[i][0]] + \": \" + CD_marker_to_cell[marker_cell_dict[affect_coef[i][0]]] + \")\" + \": \" + str(affect_coef[i][1]))\n",
    "    else:\n",
    "        if (affect_coef[i - 1][1] != 0):\n",
    "            zero_position = i + 1\n",
    "            print(str(i + 1) + \". \" + str(affect_coef[i][0]) + \"(\" + marker_cell_dict[affect_coef[i][0]] + \": \" + CD_marker_to_cell[marker_cell_dict[affect_coef[i][0]]] + \")\" + \": \" + str(affect_coef[i][1]))\n",
    "        else:\n",
    "            print(str(zero_position) + \". \" + str(affect_coef[i][0]) + \"(\" + marker_cell_dict[affect_coef[i][0]] + \": \" + CD_marker_to_cell[marker_cell_dict[affect_coef[i][0]]] + \")\" + \": \" + str(affect_coef[i][1]))"
   ]
  },
  {
   "cell_type": "code",
   "execution_count": 19,
   "metadata": {},
   "outputs": [
    {
     "data": {
      "application/vnd.plotly.v1+json": {
       "config": {
        "plotlyServerURL": "https://plot.ly"
       },
       "data": [
        {
         "cells": {
          "align": "center",
          "fill": {
           "color": "lavender"
          },
          "values": [
           [
            1,
            2,
            3,
            4,
            5,
            6,
            7,
            8,
            9,
            10,
            11,
            12,
            13,
            14,
            15,
            16,
            17,
            18,
            19,
            20,
            21,
            22,
            23,
            24,
            25,
            26,
            27,
            28,
            29,
            30,
            31,
            32,
            33,
            34,
            35,
            36,
            37,
            38,
            39,
            40,
            41,
            42,
            43,
            44,
            45,
            46,
            47,
            48,
            49,
            50,
            51,
            52,
            53,
            54,
            55,
            56,
            57,
            58,
            59
           ],
           [
            "Dy164Di(CCR3: Unknown)",
            "Eu153Di(CD1c: T Cell/ B Cell/ Dendritic Cell/ Macrophage)",
            "Er167Di(Er167Di: Unknown)",
            "Tm169Di(PPARg: Unknown)",
            "Cd112Di(Null: Unknown)",
            "Cd114Di(Null: Unknown)",
            "Yb171Di(CD68: T Cell/ B Cell/ Dendritic Cell/ Stem Cell/ Macrophage/ Granulocyte)",
            "Nd150Di(Nd150Di: Unknown)",
            "Gd160Di(CD14: Macrophage/ Granulocyte)",
            "Pt198Di(Null: Unknown)",
            "Lu175Di(PD-L1: Unknown)",
            "Nd144Di(CD141: Macrophage/ Granulocyte/ Platelet/ Endothelial Cell/ Epithelial Cell)",
            "Er166Di(CD24: B Cell/ Granulocyte/ Epithelial Cell)",
            "Gd155Di(Gd155Di: Unknown)",
            "Sm147Di(Gata6: Unknown)",
            "Er170Di(CD3: T Cell)",
            "Dy161Di(Dy161Di: Unknown)",
            "Nd145Di(PE-CCR2: Unknown)",
            "Eu151Di(CD123: Dendritic Cell/ Stem Cell/ Granulocyte/ )",
            "Dy162Di(CD11c: T Cell/ B Cell/ Dendritic Cell/ NK Cell/ Macrophage/ Granulocyte)",
            "Pt194Di(Null: Unknown)",
            "In115Di(CD45_115: T Cell/ B Cell/ Dendritic Cell/ NK Cell/ Stem Cell/ Macrophage/ Granulocyte)",
            "Bi209Di(Null: Unknown)",
            "Yb176Di(CD56: T Cell/ NK Cell)",
            "Pd105Di(Null: Unknown)",
            "Pd106Di(Null: Unknown)",
            "Yb173Di(Yb173Di: Unknown)",
            "Pd102Di(Null: Unknown)",
            "Pt195Di(Cisplatin: Unknown)",
            "Yb174Di(HLADR: Unknown)",
            "Gd157Di(Null: Unknown)",
            "Gd156Di(CD86: T Cell/ B Cell/ Dendritic Cell/ Macrophage/ Endothelial Cell)",
            "Ir193Di(DNA: Unknown)",
            "Ho165Di(CD116: Dendritic Cell/ Macrophage/ Granulocyte)",
            "Pd104Di(Null: Unknown)",
            "Gd158Di(CD33: Dendritic Cell/ Stem Cell/ Macrophage/ Granulocyte)",
            "Yb172Di(CD11b: T Cell/ B Cell/ Dendritic Cell/ NK Cell/ Macrophage/ Granulocyte)",
            "Nd148Di(CD16: T Cell/ Dendritic Cell/ NK Cell/ Macrophage/ Granulocyte)",
            "Ce140Di(Ce140Di: Unknown)",
            "Pt196Di(Null: Unknown)",
            "Pd108Di(Null: Unknown)",
            "Y89Di(CD45_89: T Cell/ B Cell/ Dendritic Cell/ NK Cell/ Stem Cell/ Macrophage/ Granulocyte)(0 coef)",
            "Xe131Di(Xe131Di: Unknown)(0 coef)",
            "Tb159Di(CD45_159: T Cell/ B Cell/ Dendritic Cell/ NK Cell/ Stem Cell/ Macrophage/ Granulocyte)(0 coef)",
            "Sm152Di(CD66b: Granulocyte)(0 coef)",
            "Sm149Di(Sm149Di: Unknown)(0 coef)",
            "Pr141Di(HLA-ABC: Unknown)(0 coef)",
            "Nd146Di(CD64: Dendritic Cell/ Stem Cell/ Macrophage/ Granulocyte)(0 coef)",
            "Nd143Di(CD117: Stem Cell)(0 coef)",
            "Nd142Di(CD19: B Cell)(0 coef)",
            "Ir191Di(DNA: Unknown)(0 coef)",
            "Gd154Di(Null: Unknown)(0 coef)",
            "Er168Di(CD206: Dendritic Cell/ Macrophage/ Endothelial Cell/  Epithelial Cell)(0 coef)",
            "Dy163Di(APC-CD115: Unknown)(0 coef)",
            "Cs133Di(Cs133Di: Unknown)(0 coef)",
            "Cd116Di(Null: Unknown)(0 coef)",
            "Cd113Di(Null: Unknown)(0 coef)",
            "Cd111Di(Null: Unknown)(0 coef)",
            "Cd110Di(Null: Unknown)(0 coef)"
           ],
           [
            "Tm169Di(PPARg: Unknown)",
            "Er170Di(CD3: T Cell)",
            "Ce140Di(Ce140Di: Unknown)",
            "Gd158Di(CD33: Dendritic Cell/ Stem Cell/ Macrophage/ Granulocyte)",
            "Pd104Di(Null: Unknown)",
            "Yb174Di(HLADR: Unknown)",
            "Pd105Di(Null: Unknown)",
            "Er168Di(CD206: Dendritic Cell/ Macrophage/ Endothelial Cell/  Epithelial Cell)",
            "Nd148Di(CD16: T Cell/ Dendritic Cell/ NK Cell/ Macrophage/ Granulocyte)",
            "Pd106Di(Null: Unknown)",
            "Pd108Di(Null: Unknown)",
            "Sm147Di(Gata6: Unknown)",
            "Gd157Di(Null: Unknown)",
            "Ho165Di(CD116: Dendritic Cell/ Macrophage/ Granulocyte)",
            "Ir193Di(DNA: Unknown)",
            "Nd150Di(Nd150Di: Unknown)",
            "Eu151Di(CD123: Dendritic Cell/ Stem Cell/ Granulocyte/ )",
            "Pd102Di(Null: Unknown)",
            "Yb176Di(CD56: T Cell/ NK Cell)(0 coef)",
            "Yb173Di(Yb173Di: Unknown)(0 coef)",
            "Yb172Di(CD11b: T Cell/ B Cell/ Dendritic Cell/ NK Cell/ Macrophage/ Granulocyte)(0 coef)",
            "Yb171Di(CD68: T Cell/ B Cell/ Dendritic Cell/ Stem Cell/ Macrophage/ Granulocyte)(0 coef)",
            "Y89Di(CD45_89: T Cell/ B Cell/ Dendritic Cell/ NK Cell/ Stem Cell/ Macrophage/ Granulocyte)(0 coef)",
            "Xe131Di(Xe131Di: Unknown)(0 coef)",
            "Tb159Di(CD45_159: T Cell/ B Cell/ Dendritic Cell/ NK Cell/ Stem Cell/ Macrophage/ Granulocyte)(0 coef)",
            "Sm152Di(CD66b: Granulocyte)(0 coef)",
            "Sm149Di(Sm149Di: Unknown)(0 coef)",
            "Pt198Di(Null: Unknown)(0 coef)",
            "Pt196Di(Null: Unknown)(0 coef)",
            "Pt195Di(Cisplatin: Unknown)(0 coef)",
            "Pt194Di(Null: Unknown)(0 coef)",
            "Pr141Di(HLA-ABC: Unknown)(0 coef)",
            "Nd146Di(CD64: Dendritic Cell/ Stem Cell/ Macrophage/ Granulocyte)(0 coef)",
            "Nd145Di(PE-CCR2: Unknown)(0 coef)",
            "Nd144Di(CD141: Macrophage/ Granulocyte/ Platelet/ Endothelial Cell/ Epithelial Cell)(0 coef)",
            "Nd143Di(CD117: Stem Cell)(0 coef)",
            "Nd142Di(CD19: B Cell)(0 coef)",
            "Lu175Di(PD-L1: Unknown)(0 coef)",
            "Ir191Di(DNA: Unknown)(0 coef)",
            "In115Di(CD45_115: T Cell/ B Cell/ Dendritic Cell/ NK Cell/ Stem Cell/ Macrophage/ Granulocyte)(0 coef)",
            "Gd160Di(CD14: Macrophage/ Granulocyte)(0 coef)",
            "Gd156Di(CD86: T Cell/ B Cell/ Dendritic Cell/ Macrophage/ Endothelial Cell)(0 coef)",
            "Gd155Di(Gd155Di: Unknown)(0 coef)",
            "Gd154Di(Null: Unknown)(0 coef)",
            "Eu153Di(CD1c: T Cell/ B Cell/ Dendritic Cell/ Macrophage)(0 coef)",
            "Er167Di(Er167Di: Unknown)(0 coef)",
            "Er166Di(CD24: B Cell/ Granulocyte/ Epithelial Cell)(0 coef)",
            "Dy164Di(CCR3: Unknown)(0 coef)",
            "Dy163Di(APC-CD115: Unknown)(0 coef)",
            "Dy162Di(CD11c: T Cell/ B Cell/ Dendritic Cell/ NK Cell/ Macrophage/ Granulocyte)(0 coef)",
            "Dy161Di(Dy161Di: Unknown)(0 coef)",
            "Cs133Di(Cs133Di: Unknown)(0 coef)",
            "Cd116Di(Null: Unknown)(0 coef)",
            "Cd114Di(Null: Unknown)(0 coef)",
            "Cd113Di(Null: Unknown)(0 coef)",
            "Cd112Di(Null: Unknown)(0 coef)",
            "Cd111Di(Null: Unknown)(0 coef)",
            "Cd110Di(Null: Unknown)(0 coef)",
            "Bi209Di(Null: Unknown)(0 coef)"
           ],
           [
            "Yb174Di(HLADR: Unknown)",
            "Pd105Di(Null: Unknown)",
            "Eu151Di(CD123: Dendritic Cell/ Stem Cell/ Granulocyte/ )",
            "Pd106Di(Null: Unknown)",
            "Gd158Di(CD33: Dendritic Cell/ Stem Cell/ Macrophage/ Granulocyte)",
            "Er166Di(CD24: B Cell/ Granulocyte/ Epithelial Cell)",
            "Yb172Di(CD11b: T Cell/ B Cell/ Dendritic Cell/ NK Cell/ Macrophage/ Granulocyte)",
            "Pd102Di(Null: Unknown)",
            "Pd108Di(Null: Unknown)",
            "Gd157Di(Null: Unknown)",
            "Er170Di(CD3: T Cell)",
            "Ir193Di(DNA: Unknown)",
            "Ce140Di(Ce140Di: Unknown)",
            "Yb176Di(CD56: T Cell/ NK Cell)(0 coef)",
            "Yb173Di(Yb173Di: Unknown)(0 coef)",
            "Yb171Di(CD68: T Cell/ B Cell/ Dendritic Cell/ Stem Cell/ Macrophage/ Granulocyte)(0 coef)",
            "Y89Di(CD45_89: T Cell/ B Cell/ Dendritic Cell/ NK Cell/ Stem Cell/ Macrophage/ Granulocyte)(0 coef)",
            "Xe131Di(Xe131Di: Unknown)(0 coef)",
            "Tm169Di(PPARg: Unknown)(0 coef)",
            "Tb159Di(CD45_159: T Cell/ B Cell/ Dendritic Cell/ NK Cell/ Stem Cell/ Macrophage/ Granulocyte)(0 coef)",
            "Sm152Di(CD66b: Granulocyte)(0 coef)",
            "Sm149Di(Sm149Di: Unknown)(0 coef)",
            "Sm147Di(Gata6: Unknown)(0 coef)",
            "Pt198Di(Null: Unknown)(0 coef)",
            "Pt196Di(Null: Unknown)(0 coef)",
            "Pt195Di(Cisplatin: Unknown)(0 coef)",
            "Pt194Di(Null: Unknown)(0 coef)",
            "Pr141Di(HLA-ABC: Unknown)(0 coef)",
            "Pd104Di(Null: Unknown)(0 coef)",
            "Nd150Di(Nd150Di: Unknown)(0 coef)",
            "Nd148Di(CD16: T Cell/ Dendritic Cell/ NK Cell/ Macrophage/ Granulocyte)(0 coef)",
            "Nd146Di(CD64: Dendritic Cell/ Stem Cell/ Macrophage/ Granulocyte)(0 coef)",
            "Nd145Di(PE-CCR2: Unknown)(0 coef)",
            "Nd144Di(CD141: Macrophage/ Granulocyte/ Platelet/ Endothelial Cell/ Epithelial Cell)(0 coef)",
            "Nd143Di(CD117: Stem Cell)(0 coef)",
            "Nd142Di(CD19: B Cell)(0 coef)",
            "Lu175Di(PD-L1: Unknown)(0 coef)",
            "Ir191Di(DNA: Unknown)(0 coef)",
            "In115Di(CD45_115: T Cell/ B Cell/ Dendritic Cell/ NK Cell/ Stem Cell/ Macrophage/ Granulocyte)(0 coef)",
            "Ho165Di(CD116: Dendritic Cell/ Macrophage/ Granulocyte)(0 coef)",
            "Gd160Di(CD14: Macrophage/ Granulocyte)(0 coef)",
            "Gd156Di(CD86: T Cell/ B Cell/ Dendritic Cell/ Macrophage/ Endothelial Cell)(0 coef)",
            "Gd155Di(Gd155Di: Unknown)(0 coef)",
            "Gd154Di(Null: Unknown)(0 coef)",
            "Eu153Di(CD1c: T Cell/ B Cell/ Dendritic Cell/ Macrophage)(0 coef)",
            "Er168Di(CD206: Dendritic Cell/ Macrophage/ Endothelial Cell/  Epithelial Cell)(0 coef)",
            "Er167Di(Er167Di: Unknown)(0 coef)",
            "Dy164Di(CCR3: Unknown)(0 coef)",
            "Dy163Di(APC-CD115: Unknown)(0 coef)",
            "Dy162Di(CD11c: T Cell/ B Cell/ Dendritic Cell/ NK Cell/ Macrophage/ Granulocyte)(0 coef)",
            "Dy161Di(Dy161Di: Unknown)(0 coef)",
            "Cs133Di(Cs133Di: Unknown)(0 coef)",
            "Cd116Di(Null: Unknown)(0 coef)",
            "Cd114Di(Null: Unknown)(0 coef)",
            "Cd113Di(Null: Unknown)(0 coef)",
            "Cd112Di(Null: Unknown)(0 coef)",
            "Cd111Di(Null: Unknown)(0 coef)",
            "Cd110Di(Null: Unknown)(0 coef)",
            "Bi209Di(Null: Unknown)(0 coef)"
           ],
           [
            "Er170Di(CD3: T Cell)",
            "Tm169Di(PPARg: Unknown)",
            "Nd150Di(Nd150Di: Unknown)",
            "Nd148Di(CD16: T Cell/ Dendritic Cell/ NK Cell/ Macrophage/ Granulocyte)",
            "Sm147Di(Gata6: Unknown)",
            "Pd104Di(Null: Unknown)",
            "Ir191Di(DNA: Unknown)",
            "Ce140Di(Ce140Di: Unknown)",
            "Pd105Di(Null: Unknown)",
            "Ir193Di(DNA: Unknown)",
            "Bi209Di(Null: Unknown)",
            "Dy162Di(CD11c: T Cell/ B Cell/ Dendritic Cell/ NK Cell/ Macrophage/ Granulocyte)",
            "Yb176Di(CD56: T Cell/ NK Cell)(0 coef)",
            "Yb174Di(HLADR: Unknown)(0 coef)",
            "Yb173Di(Yb173Di: Unknown)(0 coef)",
            "Yb172Di(CD11b: T Cell/ B Cell/ Dendritic Cell/ NK Cell/ Macrophage/ Granulocyte)(0 coef)",
            "Yb171Di(CD68: T Cell/ B Cell/ Dendritic Cell/ Stem Cell/ Macrophage/ Granulocyte)(0 coef)",
            "Y89Di(CD45_89: T Cell/ B Cell/ Dendritic Cell/ NK Cell/ Stem Cell/ Macrophage/ Granulocyte)(0 coef)",
            "Xe131Di(Xe131Di: Unknown)(0 coef)",
            "Tb159Di(CD45_159: T Cell/ B Cell/ Dendritic Cell/ NK Cell/ Stem Cell/ Macrophage/ Granulocyte)(0 coef)",
            "Sm152Di(CD66b: Granulocyte)(0 coef)",
            "Sm149Di(Sm149Di: Unknown)(0 coef)",
            "Pt198Di(Null: Unknown)(0 coef)",
            "Pt196Di(Null: Unknown)(0 coef)",
            "Pt195Di(Cisplatin: Unknown)(0 coef)",
            "Pt194Di(Null: Unknown)(0 coef)",
            "Pr141Di(HLA-ABC: Unknown)(0 coef)",
            "Pd108Di(Null: Unknown)(0 coef)",
            "Pd106Di(Null: Unknown)(0 coef)",
            "Pd102Di(Null: Unknown)(0 coef)",
            "Nd146Di(CD64: Dendritic Cell/ Stem Cell/ Macrophage/ Granulocyte)(0 coef)",
            "Nd145Di(PE-CCR2: Unknown)(0 coef)",
            "Nd144Di(CD141: Macrophage/ Granulocyte/ Platelet/ Endothelial Cell/ Epithelial Cell)(0 coef)",
            "Nd143Di(CD117: Stem Cell)(0 coef)",
            "Nd142Di(CD19: B Cell)(0 coef)",
            "Lu175Di(PD-L1: Unknown)(0 coef)",
            "In115Di(CD45_115: T Cell/ B Cell/ Dendritic Cell/ NK Cell/ Stem Cell/ Macrophage/ Granulocyte)(0 coef)",
            "Ho165Di(CD116: Dendritic Cell/ Macrophage/ Granulocyte)(0 coef)",
            "Gd160Di(CD14: Macrophage/ Granulocyte)(0 coef)",
            "Gd158Di(CD33: Dendritic Cell/ Stem Cell/ Macrophage/ Granulocyte)(0 coef)",
            "Gd157Di(Null: Unknown)(0 coef)",
            "Gd156Di(CD86: T Cell/ B Cell/ Dendritic Cell/ Macrophage/ Endothelial Cell)(0 coef)",
            "Gd155Di(Gd155Di: Unknown)(0 coef)",
            "Gd154Di(Null: Unknown)(0 coef)",
            "Eu153Di(CD1c: T Cell/ B Cell/ Dendritic Cell/ Macrophage)(0 coef)",
            "Eu151Di(CD123: Dendritic Cell/ Stem Cell/ Granulocyte/ )(0 coef)",
            "Er168Di(CD206: Dendritic Cell/ Macrophage/ Endothelial Cell/  Epithelial Cell)(0 coef)",
            "Er167Di(Er167Di: Unknown)(0 coef)",
            "Er166Di(CD24: B Cell/ Granulocyte/ Epithelial Cell)(0 coef)",
            "Dy164Di(CCR3: Unknown)(0 coef)",
            "Dy163Di(APC-CD115: Unknown)(0 coef)",
            "Dy161Di(Dy161Di: Unknown)(0 coef)",
            "Cs133Di(Cs133Di: Unknown)(0 coef)",
            "Cd116Di(Null: Unknown)(0 coef)",
            "Cd114Di(Null: Unknown)(0 coef)",
            "Cd113Di(Null: Unknown)(0 coef)",
            "Cd112Di(Null: Unknown)(0 coef)",
            "Cd111Di(Null: Unknown)(0 coef)",
            "Cd110Di(Null: Unknown)(0 coef)"
           ]
          ]
         },
         "header": {
          "align": "center",
          "fill": {
           "color": "paleturquoise"
          },
          "values": [
           "Rank",
           "LASSO",
           "LinearSVC(ICU)",
           "LinearSVC(non-ICU)",
           "LinearSVC(recovered)"
          ]
         },
         "type": "table"
        }
       ],
       "layout": {
        "template": {
         "data": {
          "bar": [
           {
            "error_x": {
             "color": "#2a3f5f"
            },
            "error_y": {
             "color": "#2a3f5f"
            },
            "marker": {
             "line": {
              "color": "#E5ECF6",
              "width": 0.5
             }
            },
            "type": "bar"
           }
          ],
          "barpolar": [
           {
            "marker": {
             "line": {
              "color": "#E5ECF6",
              "width": 0.5
             }
            },
            "type": "barpolar"
           }
          ],
          "carpet": [
           {
            "aaxis": {
             "endlinecolor": "#2a3f5f",
             "gridcolor": "white",
             "linecolor": "white",
             "minorgridcolor": "white",
             "startlinecolor": "#2a3f5f"
            },
            "baxis": {
             "endlinecolor": "#2a3f5f",
             "gridcolor": "white",
             "linecolor": "white",
             "minorgridcolor": "white",
             "startlinecolor": "#2a3f5f"
            },
            "type": "carpet"
           }
          ],
          "choropleth": [
           {
            "colorbar": {
             "outlinewidth": 0,
             "ticks": ""
            },
            "type": "choropleth"
           }
          ],
          "contour": [
           {
            "colorbar": {
             "outlinewidth": 0,
             "ticks": ""
            },
            "colorscale": [
             [
              0,
              "#0d0887"
             ],
             [
              0.1111111111111111,
              "#46039f"
             ],
             [
              0.2222222222222222,
              "#7201a8"
             ],
             [
              0.3333333333333333,
              "#9c179e"
             ],
             [
              0.4444444444444444,
              "#bd3786"
             ],
             [
              0.5555555555555556,
              "#d8576b"
             ],
             [
              0.6666666666666666,
              "#ed7953"
             ],
             [
              0.7777777777777778,
              "#fb9f3a"
             ],
             [
              0.8888888888888888,
              "#fdca26"
             ],
             [
              1,
              "#f0f921"
             ]
            ],
            "type": "contour"
           }
          ],
          "contourcarpet": [
           {
            "colorbar": {
             "outlinewidth": 0,
             "ticks": ""
            },
            "type": "contourcarpet"
           }
          ],
          "heatmap": [
           {
            "colorbar": {
             "outlinewidth": 0,
             "ticks": ""
            },
            "colorscale": [
             [
              0,
              "#0d0887"
             ],
             [
              0.1111111111111111,
              "#46039f"
             ],
             [
              0.2222222222222222,
              "#7201a8"
             ],
             [
              0.3333333333333333,
              "#9c179e"
             ],
             [
              0.4444444444444444,
              "#bd3786"
             ],
             [
              0.5555555555555556,
              "#d8576b"
             ],
             [
              0.6666666666666666,
              "#ed7953"
             ],
             [
              0.7777777777777778,
              "#fb9f3a"
             ],
             [
              0.8888888888888888,
              "#fdca26"
             ],
             [
              1,
              "#f0f921"
             ]
            ],
            "type": "heatmap"
           }
          ],
          "heatmapgl": [
           {
            "colorbar": {
             "outlinewidth": 0,
             "ticks": ""
            },
            "colorscale": [
             [
              0,
              "#0d0887"
             ],
             [
              0.1111111111111111,
              "#46039f"
             ],
             [
              0.2222222222222222,
              "#7201a8"
             ],
             [
              0.3333333333333333,
              "#9c179e"
             ],
             [
              0.4444444444444444,
              "#bd3786"
             ],
             [
              0.5555555555555556,
              "#d8576b"
             ],
             [
              0.6666666666666666,
              "#ed7953"
             ],
             [
              0.7777777777777778,
              "#fb9f3a"
             ],
             [
              0.8888888888888888,
              "#fdca26"
             ],
             [
              1,
              "#f0f921"
             ]
            ],
            "type": "heatmapgl"
           }
          ],
          "histogram": [
           {
            "marker": {
             "colorbar": {
              "outlinewidth": 0,
              "ticks": ""
             }
            },
            "type": "histogram"
           }
          ],
          "histogram2d": [
           {
            "colorbar": {
             "outlinewidth": 0,
             "ticks": ""
            },
            "colorscale": [
             [
              0,
              "#0d0887"
             ],
             [
              0.1111111111111111,
              "#46039f"
             ],
             [
              0.2222222222222222,
              "#7201a8"
             ],
             [
              0.3333333333333333,
              "#9c179e"
             ],
             [
              0.4444444444444444,
              "#bd3786"
             ],
             [
              0.5555555555555556,
              "#d8576b"
             ],
             [
              0.6666666666666666,
              "#ed7953"
             ],
             [
              0.7777777777777778,
              "#fb9f3a"
             ],
             [
              0.8888888888888888,
              "#fdca26"
             ],
             [
              1,
              "#f0f921"
             ]
            ],
            "type": "histogram2d"
           }
          ],
          "histogram2dcontour": [
           {
            "colorbar": {
             "outlinewidth": 0,
             "ticks": ""
            },
            "colorscale": [
             [
              0,
              "#0d0887"
             ],
             [
              0.1111111111111111,
              "#46039f"
             ],
             [
              0.2222222222222222,
              "#7201a8"
             ],
             [
              0.3333333333333333,
              "#9c179e"
             ],
             [
              0.4444444444444444,
              "#bd3786"
             ],
             [
              0.5555555555555556,
              "#d8576b"
             ],
             [
              0.6666666666666666,
              "#ed7953"
             ],
             [
              0.7777777777777778,
              "#fb9f3a"
             ],
             [
              0.8888888888888888,
              "#fdca26"
             ],
             [
              1,
              "#f0f921"
             ]
            ],
            "type": "histogram2dcontour"
           }
          ],
          "mesh3d": [
           {
            "colorbar": {
             "outlinewidth": 0,
             "ticks": ""
            },
            "type": "mesh3d"
           }
          ],
          "parcoords": [
           {
            "line": {
             "colorbar": {
              "outlinewidth": 0,
              "ticks": ""
             }
            },
            "type": "parcoords"
           }
          ],
          "pie": [
           {
            "automargin": true,
            "type": "pie"
           }
          ],
          "scatter": [
           {
            "marker": {
             "colorbar": {
              "outlinewidth": 0,
              "ticks": ""
             }
            },
            "type": "scatter"
           }
          ],
          "scatter3d": [
           {
            "line": {
             "colorbar": {
              "outlinewidth": 0,
              "ticks": ""
             }
            },
            "marker": {
             "colorbar": {
              "outlinewidth": 0,
              "ticks": ""
             }
            },
            "type": "scatter3d"
           }
          ],
          "scattercarpet": [
           {
            "marker": {
             "colorbar": {
              "outlinewidth": 0,
              "ticks": ""
             }
            },
            "type": "scattercarpet"
           }
          ],
          "scattergeo": [
           {
            "marker": {
             "colorbar": {
              "outlinewidth": 0,
              "ticks": ""
             }
            },
            "type": "scattergeo"
           }
          ],
          "scattergl": [
           {
            "marker": {
             "colorbar": {
              "outlinewidth": 0,
              "ticks": ""
             }
            },
            "type": "scattergl"
           }
          ],
          "scattermapbox": [
           {
            "marker": {
             "colorbar": {
              "outlinewidth": 0,
              "ticks": ""
             }
            },
            "type": "scattermapbox"
           }
          ],
          "scatterpolar": [
           {
            "marker": {
             "colorbar": {
              "outlinewidth": 0,
              "ticks": ""
             }
            },
            "type": "scatterpolar"
           }
          ],
          "scatterpolargl": [
           {
            "marker": {
             "colorbar": {
              "outlinewidth": 0,
              "ticks": ""
             }
            },
            "type": "scatterpolargl"
           }
          ],
          "scatterternary": [
           {
            "marker": {
             "colorbar": {
              "outlinewidth": 0,
              "ticks": ""
             }
            },
            "type": "scatterternary"
           }
          ],
          "surface": [
           {
            "colorbar": {
             "outlinewidth": 0,
             "ticks": ""
            },
            "colorscale": [
             [
              0,
              "#0d0887"
             ],
             [
              0.1111111111111111,
              "#46039f"
             ],
             [
              0.2222222222222222,
              "#7201a8"
             ],
             [
              0.3333333333333333,
              "#9c179e"
             ],
             [
              0.4444444444444444,
              "#bd3786"
             ],
             [
              0.5555555555555556,
              "#d8576b"
             ],
             [
              0.6666666666666666,
              "#ed7953"
             ],
             [
              0.7777777777777778,
              "#fb9f3a"
             ],
             [
              0.8888888888888888,
              "#fdca26"
             ],
             [
              1,
              "#f0f921"
             ]
            ],
            "type": "surface"
           }
          ],
          "table": [
           {
            "cells": {
             "fill": {
              "color": "#EBF0F8"
             },
             "line": {
              "color": "white"
             }
            },
            "header": {
             "fill": {
              "color": "#C8D4E3"
             },
             "line": {
              "color": "white"
             }
            },
            "type": "table"
           }
          ]
         },
         "layout": {
          "annotationdefaults": {
           "arrowcolor": "#2a3f5f",
           "arrowhead": 0,
           "arrowwidth": 1
          },
          "coloraxis": {
           "colorbar": {
            "outlinewidth": 0,
            "ticks": ""
           }
          },
          "colorscale": {
           "diverging": [
            [
             0,
             "#8e0152"
            ],
            [
             0.1,
             "#c51b7d"
            ],
            [
             0.2,
             "#de77ae"
            ],
            [
             0.3,
             "#f1b6da"
            ],
            [
             0.4,
             "#fde0ef"
            ],
            [
             0.5,
             "#f7f7f7"
            ],
            [
             0.6,
             "#e6f5d0"
            ],
            [
             0.7,
             "#b8e186"
            ],
            [
             0.8,
             "#7fbc41"
            ],
            [
             0.9,
             "#4d9221"
            ],
            [
             1,
             "#276419"
            ]
           ],
           "sequential": [
            [
             0,
             "#0d0887"
            ],
            [
             0.1111111111111111,
             "#46039f"
            ],
            [
             0.2222222222222222,
             "#7201a8"
            ],
            [
             0.3333333333333333,
             "#9c179e"
            ],
            [
             0.4444444444444444,
             "#bd3786"
            ],
            [
             0.5555555555555556,
             "#d8576b"
            ],
            [
             0.6666666666666666,
             "#ed7953"
            ],
            [
             0.7777777777777778,
             "#fb9f3a"
            ],
            [
             0.8888888888888888,
             "#fdca26"
            ],
            [
             1,
             "#f0f921"
            ]
           ],
           "sequentialminus": [
            [
             0,
             "#0d0887"
            ],
            [
             0.1111111111111111,
             "#46039f"
            ],
            [
             0.2222222222222222,
             "#7201a8"
            ],
            [
             0.3333333333333333,
             "#9c179e"
            ],
            [
             0.4444444444444444,
             "#bd3786"
            ],
            [
             0.5555555555555556,
             "#d8576b"
            ],
            [
             0.6666666666666666,
             "#ed7953"
            ],
            [
             0.7777777777777778,
             "#fb9f3a"
            ],
            [
             0.8888888888888888,
             "#fdca26"
            ],
            [
             1,
             "#f0f921"
            ]
           ]
          },
          "colorway": [
           "#636efa",
           "#EF553B",
           "#00cc96",
           "#ab63fa",
           "#FFA15A",
           "#19d3f3",
           "#FF6692",
           "#B6E880",
           "#FF97FF",
           "#FECB52"
          ],
          "font": {
           "color": "#2a3f5f"
          },
          "geo": {
           "bgcolor": "white",
           "lakecolor": "white",
           "landcolor": "#E5ECF6",
           "showlakes": true,
           "showland": true,
           "subunitcolor": "white"
          },
          "hoverlabel": {
           "align": "left"
          },
          "hovermode": "closest",
          "mapbox": {
           "style": "light"
          },
          "paper_bgcolor": "white",
          "plot_bgcolor": "#E5ECF6",
          "polar": {
           "angularaxis": {
            "gridcolor": "white",
            "linecolor": "white",
            "ticks": ""
           },
           "bgcolor": "#E5ECF6",
           "radialaxis": {
            "gridcolor": "white",
            "linecolor": "white",
            "ticks": ""
           }
          },
          "scene": {
           "xaxis": {
            "backgroundcolor": "#E5ECF6",
            "gridcolor": "white",
            "gridwidth": 2,
            "linecolor": "white",
            "showbackground": true,
            "ticks": "",
            "zerolinecolor": "white"
           },
           "yaxis": {
            "backgroundcolor": "#E5ECF6",
            "gridcolor": "white",
            "gridwidth": 2,
            "linecolor": "white",
            "showbackground": true,
            "ticks": "",
            "zerolinecolor": "white"
           },
           "zaxis": {
            "backgroundcolor": "#E5ECF6",
            "gridcolor": "white",
            "gridwidth": 2,
            "linecolor": "white",
            "showbackground": true,
            "ticks": "",
            "zerolinecolor": "white"
           }
          },
          "shapedefaults": {
           "line": {
            "color": "#2a3f5f"
           }
          },
          "ternary": {
           "aaxis": {
            "gridcolor": "white",
            "linecolor": "white",
            "ticks": ""
           },
           "baxis": {
            "gridcolor": "white",
            "linecolor": "white",
            "ticks": ""
           },
           "bgcolor": "#E5ECF6",
           "caxis": {
            "gridcolor": "white",
            "linecolor": "white",
            "ticks": ""
           }
          },
          "title": {
           "x": 0.05
          },
          "xaxis": {
           "automargin": true,
           "gridcolor": "white",
           "linecolor": "white",
           "ticks": "",
           "title": {
            "standoff": 15
           },
           "zerolinecolor": "white",
           "zerolinewidth": 2
          },
          "yaxis": {
           "automargin": true,
           "gridcolor": "white",
           "linecolor": "white",
           "ticks": "",
           "title": {
            "standoff": 15
           },
           "zerolinecolor": "white",
           "zerolinewidth": 2
          }
         }
        }
       }
      },
      "text/html": [
       "<div>                            <div id=\"82ba205c-adda-44ce-bef2-7dbcaf0375ad\" class=\"plotly-graph-div\" style=\"height:525px; width:100%;\"></div>            <script type=\"text/javascript\">                require([\"plotly\"], function(Plotly) {                    window.PLOTLYENV=window.PLOTLYENV || {};                                    if (document.getElementById(\"82ba205c-adda-44ce-bef2-7dbcaf0375ad\")) {                    Plotly.newPlot(                        \"82ba205c-adda-44ce-bef2-7dbcaf0375ad\",                        [{\"cells\": {\"align\": \"center\", \"fill\": {\"color\": \"lavender\"}, \"values\": [[1, 2, 3, 4, 5, 6, 7, 8, 9, 10, 11, 12, 13, 14, 15, 16, 17, 18, 19, 20, 21, 22, 23, 24, 25, 26, 27, 28, 29, 30, 31, 32, 33, 34, 35, 36, 37, 38, 39, 40, 41, 42, 43, 44, 45, 46, 47, 48, 49, 50, 51, 52, 53, 54, 55, 56, 57, 58, 59], [\"Dy164Di(CCR3: Unknown)\", \"Eu153Di(CD1c: T Cell/ B Cell/ Dendritic Cell/ Macrophage)\", \"Er167Di(Er167Di: Unknown)\", \"Tm169Di(PPARg: Unknown)\", \"Cd112Di(Null: Unknown)\", \"Cd114Di(Null: Unknown)\", \"Yb171Di(CD68: T Cell/ B Cell/ Dendritic Cell/ Stem Cell/ Macrophage/ Granulocyte)\", \"Nd150Di(Nd150Di: Unknown)\", \"Gd160Di(CD14: Macrophage/ Granulocyte)\", \"Pt198Di(Null: Unknown)\", \"Lu175Di(PD-L1: Unknown)\", \"Nd144Di(CD141: Macrophage/ Granulocyte/ Platelet/ Endothelial Cell/ Epithelial Cell)\", \"Er166Di(CD24: B Cell/ Granulocyte/ Epithelial Cell)\", \"Gd155Di(Gd155Di: Unknown)\", \"Sm147Di(Gata6: Unknown)\", \"Er170Di(CD3: T Cell)\", \"Dy161Di(Dy161Di: Unknown)\", \"Nd145Di(PE-CCR2: Unknown)\", \"Eu151Di(CD123: Dendritic Cell/ Stem Cell/ Granulocyte/ )\", \"Dy162Di(CD11c: T Cell/ B Cell/ Dendritic Cell/ NK Cell/ Macrophage/ Granulocyte)\", \"Pt194Di(Null: Unknown)\", \"In115Di(CD45_115: T Cell/ B Cell/ Dendritic Cell/ NK Cell/ Stem Cell/ Macrophage/ Granulocyte)\", \"Bi209Di(Null: Unknown)\", \"Yb176Di(CD56: T Cell/ NK Cell)\", \"Pd105Di(Null: Unknown)\", \"Pd106Di(Null: Unknown)\", \"Yb173Di(Yb173Di: Unknown)\", \"Pd102Di(Null: Unknown)\", \"Pt195Di(Cisplatin: Unknown)\", \"Yb174Di(HLADR: Unknown)\", \"Gd157Di(Null: Unknown)\", \"Gd156Di(CD86: T Cell/ B Cell/ Dendritic Cell/ Macrophage/ Endothelial Cell)\", \"Ir193Di(DNA: Unknown)\", \"Ho165Di(CD116: Dendritic Cell/ Macrophage/ Granulocyte)\", \"Pd104Di(Null: Unknown)\", \"Gd158Di(CD33: Dendritic Cell/ Stem Cell/ Macrophage/ Granulocyte)\", \"Yb172Di(CD11b: T Cell/ B Cell/ Dendritic Cell/ NK Cell/ Macrophage/ Granulocyte)\", \"Nd148Di(CD16: T Cell/ Dendritic Cell/ NK Cell/ Macrophage/ Granulocyte)\", \"Ce140Di(Ce140Di: Unknown)\", \"Pt196Di(Null: Unknown)\", \"Pd108Di(Null: Unknown)\", \"Y89Di(CD45_89: T Cell/ B Cell/ Dendritic Cell/ NK Cell/ Stem Cell/ Macrophage/ Granulocyte)(0 coef)\", \"Xe131Di(Xe131Di: Unknown)(0 coef)\", \"Tb159Di(CD45_159: T Cell/ B Cell/ Dendritic Cell/ NK Cell/ Stem Cell/ Macrophage/ Granulocyte)(0 coef)\", \"Sm152Di(CD66b: Granulocyte)(0 coef)\", \"Sm149Di(Sm149Di: Unknown)(0 coef)\", \"Pr141Di(HLA-ABC: Unknown)(0 coef)\", \"Nd146Di(CD64: Dendritic Cell/ Stem Cell/ Macrophage/ Granulocyte)(0 coef)\", \"Nd143Di(CD117: Stem Cell)(0 coef)\", \"Nd142Di(CD19: B Cell)(0 coef)\", \"Ir191Di(DNA: Unknown)(0 coef)\", \"Gd154Di(Null: Unknown)(0 coef)\", \"Er168Di(CD206: Dendritic Cell/ Macrophage/ Endothelial Cell/  Epithelial Cell)(0 coef)\", \"Dy163Di(APC-CD115: Unknown)(0 coef)\", \"Cs133Di(Cs133Di: Unknown)(0 coef)\", \"Cd116Di(Null: Unknown)(0 coef)\", \"Cd113Di(Null: Unknown)(0 coef)\", \"Cd111Di(Null: Unknown)(0 coef)\", \"Cd110Di(Null: Unknown)(0 coef)\"], [\"Tm169Di(PPARg: Unknown)\", \"Er170Di(CD3: T Cell)\", \"Ce140Di(Ce140Di: Unknown)\", \"Gd158Di(CD33: Dendritic Cell/ Stem Cell/ Macrophage/ Granulocyte)\", \"Pd104Di(Null: Unknown)\", \"Yb174Di(HLADR: Unknown)\", \"Pd105Di(Null: Unknown)\", \"Er168Di(CD206: Dendritic Cell/ Macrophage/ Endothelial Cell/  Epithelial Cell)\", \"Nd148Di(CD16: T Cell/ Dendritic Cell/ NK Cell/ Macrophage/ Granulocyte)\", \"Pd106Di(Null: Unknown)\", \"Pd108Di(Null: Unknown)\", \"Sm147Di(Gata6: Unknown)\", \"Gd157Di(Null: Unknown)\", \"Ho165Di(CD116: Dendritic Cell/ Macrophage/ Granulocyte)\", \"Ir193Di(DNA: Unknown)\", \"Nd150Di(Nd150Di: Unknown)\", \"Eu151Di(CD123: Dendritic Cell/ Stem Cell/ Granulocyte/ )\", \"Pd102Di(Null: Unknown)\", \"Yb176Di(CD56: T Cell/ NK Cell)(0 coef)\", \"Yb173Di(Yb173Di: Unknown)(0 coef)\", \"Yb172Di(CD11b: T Cell/ B Cell/ Dendritic Cell/ NK Cell/ Macrophage/ Granulocyte)(0 coef)\", \"Yb171Di(CD68: T Cell/ B Cell/ Dendritic Cell/ Stem Cell/ Macrophage/ Granulocyte)(0 coef)\", \"Y89Di(CD45_89: T Cell/ B Cell/ Dendritic Cell/ NK Cell/ Stem Cell/ Macrophage/ Granulocyte)(0 coef)\", \"Xe131Di(Xe131Di: Unknown)(0 coef)\", \"Tb159Di(CD45_159: T Cell/ B Cell/ Dendritic Cell/ NK Cell/ Stem Cell/ Macrophage/ Granulocyte)(0 coef)\", \"Sm152Di(CD66b: Granulocyte)(0 coef)\", \"Sm149Di(Sm149Di: Unknown)(0 coef)\", \"Pt198Di(Null: Unknown)(0 coef)\", \"Pt196Di(Null: Unknown)(0 coef)\", \"Pt195Di(Cisplatin: Unknown)(0 coef)\", \"Pt194Di(Null: Unknown)(0 coef)\", \"Pr141Di(HLA-ABC: Unknown)(0 coef)\", \"Nd146Di(CD64: Dendritic Cell/ Stem Cell/ Macrophage/ Granulocyte)(0 coef)\", \"Nd145Di(PE-CCR2: Unknown)(0 coef)\", \"Nd144Di(CD141: Macrophage/ Granulocyte/ Platelet/ Endothelial Cell/ Epithelial Cell)(0 coef)\", \"Nd143Di(CD117: Stem Cell)(0 coef)\", \"Nd142Di(CD19: B Cell)(0 coef)\", \"Lu175Di(PD-L1: Unknown)(0 coef)\", \"Ir191Di(DNA: Unknown)(0 coef)\", \"In115Di(CD45_115: T Cell/ B Cell/ Dendritic Cell/ NK Cell/ Stem Cell/ Macrophage/ Granulocyte)(0 coef)\", \"Gd160Di(CD14: Macrophage/ Granulocyte)(0 coef)\", \"Gd156Di(CD86: T Cell/ B Cell/ Dendritic Cell/ Macrophage/ Endothelial Cell)(0 coef)\", \"Gd155Di(Gd155Di: Unknown)(0 coef)\", \"Gd154Di(Null: Unknown)(0 coef)\", \"Eu153Di(CD1c: T Cell/ B Cell/ Dendritic Cell/ Macrophage)(0 coef)\", \"Er167Di(Er167Di: Unknown)(0 coef)\", \"Er166Di(CD24: B Cell/ Granulocyte/ Epithelial Cell)(0 coef)\", \"Dy164Di(CCR3: Unknown)(0 coef)\", \"Dy163Di(APC-CD115: Unknown)(0 coef)\", \"Dy162Di(CD11c: T Cell/ B Cell/ Dendritic Cell/ NK Cell/ Macrophage/ Granulocyte)(0 coef)\", \"Dy161Di(Dy161Di: Unknown)(0 coef)\", \"Cs133Di(Cs133Di: Unknown)(0 coef)\", \"Cd116Di(Null: Unknown)(0 coef)\", \"Cd114Di(Null: Unknown)(0 coef)\", \"Cd113Di(Null: Unknown)(0 coef)\", \"Cd112Di(Null: Unknown)(0 coef)\", \"Cd111Di(Null: Unknown)(0 coef)\", \"Cd110Di(Null: Unknown)(0 coef)\", \"Bi209Di(Null: Unknown)(0 coef)\"], [\"Yb174Di(HLADR: Unknown)\", \"Pd105Di(Null: Unknown)\", \"Eu151Di(CD123: Dendritic Cell/ Stem Cell/ Granulocyte/ )\", \"Pd106Di(Null: Unknown)\", \"Gd158Di(CD33: Dendritic Cell/ Stem Cell/ Macrophage/ Granulocyte)\", \"Er166Di(CD24: B Cell/ Granulocyte/ Epithelial Cell)\", \"Yb172Di(CD11b: T Cell/ B Cell/ Dendritic Cell/ NK Cell/ Macrophage/ Granulocyte)\", \"Pd102Di(Null: Unknown)\", \"Pd108Di(Null: Unknown)\", \"Gd157Di(Null: Unknown)\", \"Er170Di(CD3: T Cell)\", \"Ir193Di(DNA: Unknown)\", \"Ce140Di(Ce140Di: Unknown)\", \"Yb176Di(CD56: T Cell/ NK Cell)(0 coef)\", \"Yb173Di(Yb173Di: Unknown)(0 coef)\", \"Yb171Di(CD68: T Cell/ B Cell/ Dendritic Cell/ Stem Cell/ Macrophage/ Granulocyte)(0 coef)\", \"Y89Di(CD45_89: T Cell/ B Cell/ Dendritic Cell/ NK Cell/ Stem Cell/ Macrophage/ Granulocyte)(0 coef)\", \"Xe131Di(Xe131Di: Unknown)(0 coef)\", \"Tm169Di(PPARg: Unknown)(0 coef)\", \"Tb159Di(CD45_159: T Cell/ B Cell/ Dendritic Cell/ NK Cell/ Stem Cell/ Macrophage/ Granulocyte)(0 coef)\", \"Sm152Di(CD66b: Granulocyte)(0 coef)\", \"Sm149Di(Sm149Di: Unknown)(0 coef)\", \"Sm147Di(Gata6: Unknown)(0 coef)\", \"Pt198Di(Null: Unknown)(0 coef)\", \"Pt196Di(Null: Unknown)(0 coef)\", \"Pt195Di(Cisplatin: Unknown)(0 coef)\", \"Pt194Di(Null: Unknown)(0 coef)\", \"Pr141Di(HLA-ABC: Unknown)(0 coef)\", \"Pd104Di(Null: Unknown)(0 coef)\", \"Nd150Di(Nd150Di: Unknown)(0 coef)\", \"Nd148Di(CD16: T Cell/ Dendritic Cell/ NK Cell/ Macrophage/ Granulocyte)(0 coef)\", \"Nd146Di(CD64: Dendritic Cell/ Stem Cell/ Macrophage/ Granulocyte)(0 coef)\", \"Nd145Di(PE-CCR2: Unknown)(0 coef)\", \"Nd144Di(CD141: Macrophage/ Granulocyte/ Platelet/ Endothelial Cell/ Epithelial Cell)(0 coef)\", \"Nd143Di(CD117: Stem Cell)(0 coef)\", \"Nd142Di(CD19: B Cell)(0 coef)\", \"Lu175Di(PD-L1: Unknown)(0 coef)\", \"Ir191Di(DNA: Unknown)(0 coef)\", \"In115Di(CD45_115: T Cell/ B Cell/ Dendritic Cell/ NK Cell/ Stem Cell/ Macrophage/ Granulocyte)(0 coef)\", \"Ho165Di(CD116: Dendritic Cell/ Macrophage/ Granulocyte)(0 coef)\", \"Gd160Di(CD14: Macrophage/ Granulocyte)(0 coef)\", \"Gd156Di(CD86: T Cell/ B Cell/ Dendritic Cell/ Macrophage/ Endothelial Cell)(0 coef)\", \"Gd155Di(Gd155Di: Unknown)(0 coef)\", \"Gd154Di(Null: Unknown)(0 coef)\", \"Eu153Di(CD1c: T Cell/ B Cell/ Dendritic Cell/ Macrophage)(0 coef)\", \"Er168Di(CD206: Dendritic Cell/ Macrophage/ Endothelial Cell/  Epithelial Cell)(0 coef)\", \"Er167Di(Er167Di: Unknown)(0 coef)\", \"Dy164Di(CCR3: Unknown)(0 coef)\", \"Dy163Di(APC-CD115: Unknown)(0 coef)\", \"Dy162Di(CD11c: T Cell/ B Cell/ Dendritic Cell/ NK Cell/ Macrophage/ Granulocyte)(0 coef)\", \"Dy161Di(Dy161Di: Unknown)(0 coef)\", \"Cs133Di(Cs133Di: Unknown)(0 coef)\", \"Cd116Di(Null: Unknown)(0 coef)\", \"Cd114Di(Null: Unknown)(0 coef)\", \"Cd113Di(Null: Unknown)(0 coef)\", \"Cd112Di(Null: Unknown)(0 coef)\", \"Cd111Di(Null: Unknown)(0 coef)\", \"Cd110Di(Null: Unknown)(0 coef)\", \"Bi209Di(Null: Unknown)(0 coef)\"], [\"Er170Di(CD3: T Cell)\", \"Tm169Di(PPARg: Unknown)\", \"Nd150Di(Nd150Di: Unknown)\", \"Nd148Di(CD16: T Cell/ Dendritic Cell/ NK Cell/ Macrophage/ Granulocyte)\", \"Sm147Di(Gata6: Unknown)\", \"Pd104Di(Null: Unknown)\", \"Ir191Di(DNA: Unknown)\", \"Ce140Di(Ce140Di: Unknown)\", \"Pd105Di(Null: Unknown)\", \"Ir193Di(DNA: Unknown)\", \"Bi209Di(Null: Unknown)\", \"Dy162Di(CD11c: T Cell/ B Cell/ Dendritic Cell/ NK Cell/ Macrophage/ Granulocyte)\", \"Yb176Di(CD56: T Cell/ NK Cell)(0 coef)\", \"Yb174Di(HLADR: Unknown)(0 coef)\", \"Yb173Di(Yb173Di: Unknown)(0 coef)\", \"Yb172Di(CD11b: T Cell/ B Cell/ Dendritic Cell/ NK Cell/ Macrophage/ Granulocyte)(0 coef)\", \"Yb171Di(CD68: T Cell/ B Cell/ Dendritic Cell/ Stem Cell/ Macrophage/ Granulocyte)(0 coef)\", \"Y89Di(CD45_89: T Cell/ B Cell/ Dendritic Cell/ NK Cell/ Stem Cell/ Macrophage/ Granulocyte)(0 coef)\", \"Xe131Di(Xe131Di: Unknown)(0 coef)\", \"Tb159Di(CD45_159: T Cell/ B Cell/ Dendritic Cell/ NK Cell/ Stem Cell/ Macrophage/ Granulocyte)(0 coef)\", \"Sm152Di(CD66b: Granulocyte)(0 coef)\", \"Sm149Di(Sm149Di: Unknown)(0 coef)\", \"Pt198Di(Null: Unknown)(0 coef)\", \"Pt196Di(Null: Unknown)(0 coef)\", \"Pt195Di(Cisplatin: Unknown)(0 coef)\", \"Pt194Di(Null: Unknown)(0 coef)\", \"Pr141Di(HLA-ABC: Unknown)(0 coef)\", \"Pd108Di(Null: Unknown)(0 coef)\", \"Pd106Di(Null: Unknown)(0 coef)\", \"Pd102Di(Null: Unknown)(0 coef)\", \"Nd146Di(CD64: Dendritic Cell/ Stem Cell/ Macrophage/ Granulocyte)(0 coef)\", \"Nd145Di(PE-CCR2: Unknown)(0 coef)\", \"Nd144Di(CD141: Macrophage/ Granulocyte/ Platelet/ Endothelial Cell/ Epithelial Cell)(0 coef)\", \"Nd143Di(CD117: Stem Cell)(0 coef)\", \"Nd142Di(CD19: B Cell)(0 coef)\", \"Lu175Di(PD-L1: Unknown)(0 coef)\", \"In115Di(CD45_115: T Cell/ B Cell/ Dendritic Cell/ NK Cell/ Stem Cell/ Macrophage/ Granulocyte)(0 coef)\", \"Ho165Di(CD116: Dendritic Cell/ Macrophage/ Granulocyte)(0 coef)\", \"Gd160Di(CD14: Macrophage/ Granulocyte)(0 coef)\", \"Gd158Di(CD33: Dendritic Cell/ Stem Cell/ Macrophage/ Granulocyte)(0 coef)\", \"Gd157Di(Null: Unknown)(0 coef)\", \"Gd156Di(CD86: T Cell/ B Cell/ Dendritic Cell/ Macrophage/ Endothelial Cell)(0 coef)\", \"Gd155Di(Gd155Di: Unknown)(0 coef)\", \"Gd154Di(Null: Unknown)(0 coef)\", \"Eu153Di(CD1c: T Cell/ B Cell/ Dendritic Cell/ Macrophage)(0 coef)\", \"Eu151Di(CD123: Dendritic Cell/ Stem Cell/ Granulocyte/ )(0 coef)\", \"Er168Di(CD206: Dendritic Cell/ Macrophage/ Endothelial Cell/  Epithelial Cell)(0 coef)\", \"Er167Di(Er167Di: Unknown)(0 coef)\", \"Er166Di(CD24: B Cell/ Granulocyte/ Epithelial Cell)(0 coef)\", \"Dy164Di(CCR3: Unknown)(0 coef)\", \"Dy163Di(APC-CD115: Unknown)(0 coef)\", \"Dy161Di(Dy161Di: Unknown)(0 coef)\", \"Cs133Di(Cs133Di: Unknown)(0 coef)\", \"Cd116Di(Null: Unknown)(0 coef)\", \"Cd114Di(Null: Unknown)(0 coef)\", \"Cd113Di(Null: Unknown)(0 coef)\", \"Cd112Di(Null: Unknown)(0 coef)\", \"Cd111Di(Null: Unknown)(0 coef)\", \"Cd110Di(Null: Unknown)(0 coef)\"]]}, \"header\": {\"align\": \"center\", \"fill\": {\"color\": \"paleturquoise\"}, \"values\": [\"Rank\", \"LASSO\", \"LinearSVC(ICU)\", \"LinearSVC(non-ICU)\", \"LinearSVC(recovered)\"]}, \"type\": \"table\"}],                        {\"template\": {\"data\": {\"bar\": [{\"error_x\": {\"color\": \"#2a3f5f\"}, \"error_y\": {\"color\": \"#2a3f5f\"}, \"marker\": {\"line\": {\"color\": \"#E5ECF6\", \"width\": 0.5}}, \"type\": \"bar\"}], \"barpolar\": [{\"marker\": {\"line\": {\"color\": \"#E5ECF6\", \"width\": 0.5}}, \"type\": \"barpolar\"}], \"carpet\": [{\"aaxis\": {\"endlinecolor\": \"#2a3f5f\", \"gridcolor\": \"white\", \"linecolor\": \"white\", \"minorgridcolor\": \"white\", \"startlinecolor\": \"#2a3f5f\"}, \"baxis\": {\"endlinecolor\": \"#2a3f5f\", \"gridcolor\": \"white\", \"linecolor\": \"white\", \"minorgridcolor\": \"white\", \"startlinecolor\": \"#2a3f5f\"}, \"type\": \"carpet\"}], \"choropleth\": [{\"colorbar\": {\"outlinewidth\": 0, \"ticks\": \"\"}, \"type\": \"choropleth\"}], \"contour\": [{\"colorbar\": {\"outlinewidth\": 0, \"ticks\": \"\"}, \"colorscale\": [[0.0, \"#0d0887\"], [0.1111111111111111, \"#46039f\"], [0.2222222222222222, \"#7201a8\"], [0.3333333333333333, \"#9c179e\"], [0.4444444444444444, \"#bd3786\"], [0.5555555555555556, \"#d8576b\"], [0.6666666666666666, \"#ed7953\"], [0.7777777777777778, \"#fb9f3a\"], [0.8888888888888888, \"#fdca26\"], [1.0, \"#f0f921\"]], \"type\": \"contour\"}], \"contourcarpet\": [{\"colorbar\": {\"outlinewidth\": 0, \"ticks\": \"\"}, \"type\": \"contourcarpet\"}], \"heatmap\": [{\"colorbar\": {\"outlinewidth\": 0, \"ticks\": \"\"}, \"colorscale\": [[0.0, \"#0d0887\"], [0.1111111111111111, \"#46039f\"], [0.2222222222222222, \"#7201a8\"], [0.3333333333333333, \"#9c179e\"], [0.4444444444444444, \"#bd3786\"], [0.5555555555555556, \"#d8576b\"], [0.6666666666666666, \"#ed7953\"], [0.7777777777777778, \"#fb9f3a\"], [0.8888888888888888, \"#fdca26\"], [1.0, \"#f0f921\"]], \"type\": \"heatmap\"}], \"heatmapgl\": [{\"colorbar\": {\"outlinewidth\": 0, \"ticks\": \"\"}, \"colorscale\": [[0.0, \"#0d0887\"], [0.1111111111111111, \"#46039f\"], [0.2222222222222222, \"#7201a8\"], [0.3333333333333333, \"#9c179e\"], [0.4444444444444444, \"#bd3786\"], [0.5555555555555556, \"#d8576b\"], [0.6666666666666666, \"#ed7953\"], [0.7777777777777778, \"#fb9f3a\"], [0.8888888888888888, \"#fdca26\"], [1.0, \"#f0f921\"]], \"type\": \"heatmapgl\"}], \"histogram\": [{\"marker\": {\"colorbar\": {\"outlinewidth\": 0, \"ticks\": \"\"}}, \"type\": \"histogram\"}], \"histogram2d\": [{\"colorbar\": {\"outlinewidth\": 0, \"ticks\": \"\"}, \"colorscale\": [[0.0, \"#0d0887\"], [0.1111111111111111, \"#46039f\"], [0.2222222222222222, \"#7201a8\"], [0.3333333333333333, \"#9c179e\"], [0.4444444444444444, \"#bd3786\"], [0.5555555555555556, \"#d8576b\"], [0.6666666666666666, \"#ed7953\"], [0.7777777777777778, \"#fb9f3a\"], [0.8888888888888888, \"#fdca26\"], [1.0, \"#f0f921\"]], \"type\": \"histogram2d\"}], \"histogram2dcontour\": [{\"colorbar\": {\"outlinewidth\": 0, \"ticks\": \"\"}, \"colorscale\": [[0.0, \"#0d0887\"], [0.1111111111111111, \"#46039f\"], [0.2222222222222222, \"#7201a8\"], [0.3333333333333333, \"#9c179e\"], [0.4444444444444444, \"#bd3786\"], [0.5555555555555556, \"#d8576b\"], [0.6666666666666666, \"#ed7953\"], [0.7777777777777778, \"#fb9f3a\"], [0.8888888888888888, \"#fdca26\"], [1.0, \"#f0f921\"]], \"type\": \"histogram2dcontour\"}], \"mesh3d\": [{\"colorbar\": {\"outlinewidth\": 0, \"ticks\": \"\"}, \"type\": \"mesh3d\"}], \"parcoords\": [{\"line\": {\"colorbar\": {\"outlinewidth\": 0, \"ticks\": \"\"}}, \"type\": \"parcoords\"}], \"pie\": [{\"automargin\": true, \"type\": \"pie\"}], \"scatter\": [{\"marker\": {\"colorbar\": {\"outlinewidth\": 0, \"ticks\": \"\"}}, \"type\": \"scatter\"}], \"scatter3d\": [{\"line\": {\"colorbar\": {\"outlinewidth\": 0, \"ticks\": \"\"}}, \"marker\": {\"colorbar\": {\"outlinewidth\": 0, \"ticks\": \"\"}}, \"type\": \"scatter3d\"}], \"scattercarpet\": [{\"marker\": {\"colorbar\": {\"outlinewidth\": 0, \"ticks\": \"\"}}, \"type\": \"scattercarpet\"}], \"scattergeo\": [{\"marker\": {\"colorbar\": {\"outlinewidth\": 0, \"ticks\": \"\"}}, \"type\": \"scattergeo\"}], \"scattergl\": [{\"marker\": {\"colorbar\": {\"outlinewidth\": 0, \"ticks\": \"\"}}, \"type\": \"scattergl\"}], \"scattermapbox\": [{\"marker\": {\"colorbar\": {\"outlinewidth\": 0, \"ticks\": \"\"}}, \"type\": \"scattermapbox\"}], \"scatterpolar\": [{\"marker\": {\"colorbar\": {\"outlinewidth\": 0, \"ticks\": \"\"}}, \"type\": \"scatterpolar\"}], \"scatterpolargl\": [{\"marker\": {\"colorbar\": {\"outlinewidth\": 0, \"ticks\": \"\"}}, \"type\": \"scatterpolargl\"}], \"scatterternary\": [{\"marker\": {\"colorbar\": {\"outlinewidth\": 0, \"ticks\": \"\"}}, \"type\": \"scatterternary\"}], \"surface\": [{\"colorbar\": {\"outlinewidth\": 0, \"ticks\": \"\"}, \"colorscale\": [[0.0, \"#0d0887\"], [0.1111111111111111, \"#46039f\"], [0.2222222222222222, \"#7201a8\"], [0.3333333333333333, \"#9c179e\"], [0.4444444444444444, \"#bd3786\"], [0.5555555555555556, \"#d8576b\"], [0.6666666666666666, \"#ed7953\"], [0.7777777777777778, \"#fb9f3a\"], [0.8888888888888888, \"#fdca26\"], [1.0, \"#f0f921\"]], \"type\": \"surface\"}], \"table\": [{\"cells\": {\"fill\": {\"color\": \"#EBF0F8\"}, \"line\": {\"color\": \"white\"}}, \"header\": {\"fill\": {\"color\": \"#C8D4E3\"}, \"line\": {\"color\": \"white\"}}, \"type\": \"table\"}]}, \"layout\": {\"annotationdefaults\": {\"arrowcolor\": \"#2a3f5f\", \"arrowhead\": 0, \"arrowwidth\": 1}, \"coloraxis\": {\"colorbar\": {\"outlinewidth\": 0, \"ticks\": \"\"}}, \"colorscale\": {\"diverging\": [[0, \"#8e0152\"], [0.1, \"#c51b7d\"], [0.2, \"#de77ae\"], [0.3, \"#f1b6da\"], [0.4, \"#fde0ef\"], [0.5, \"#f7f7f7\"], [0.6, \"#e6f5d0\"], [0.7, \"#b8e186\"], [0.8, \"#7fbc41\"], [0.9, \"#4d9221\"], [1, \"#276419\"]], \"sequential\": [[0.0, \"#0d0887\"], [0.1111111111111111, \"#46039f\"], [0.2222222222222222, \"#7201a8\"], [0.3333333333333333, \"#9c179e\"], [0.4444444444444444, \"#bd3786\"], [0.5555555555555556, \"#d8576b\"], [0.6666666666666666, \"#ed7953\"], [0.7777777777777778, \"#fb9f3a\"], [0.8888888888888888, \"#fdca26\"], [1.0, \"#f0f921\"]], \"sequentialminus\": [[0.0, \"#0d0887\"], [0.1111111111111111, \"#46039f\"], [0.2222222222222222, \"#7201a8\"], [0.3333333333333333, \"#9c179e\"], [0.4444444444444444, \"#bd3786\"], [0.5555555555555556, \"#d8576b\"], [0.6666666666666666, \"#ed7953\"], [0.7777777777777778, \"#fb9f3a\"], [0.8888888888888888, \"#fdca26\"], [1.0, \"#f0f921\"]]}, \"colorway\": [\"#636efa\", \"#EF553B\", \"#00cc96\", \"#ab63fa\", \"#FFA15A\", \"#19d3f3\", \"#FF6692\", \"#B6E880\", \"#FF97FF\", \"#FECB52\"], \"font\": {\"color\": \"#2a3f5f\"}, \"geo\": {\"bgcolor\": \"white\", \"lakecolor\": \"white\", \"landcolor\": \"#E5ECF6\", \"showlakes\": true, \"showland\": true, \"subunitcolor\": \"white\"}, \"hoverlabel\": {\"align\": \"left\"}, \"hovermode\": \"closest\", \"mapbox\": {\"style\": \"light\"}, \"paper_bgcolor\": \"white\", \"plot_bgcolor\": \"#E5ECF6\", \"polar\": {\"angularaxis\": {\"gridcolor\": \"white\", \"linecolor\": \"white\", \"ticks\": \"\"}, \"bgcolor\": \"#E5ECF6\", \"radialaxis\": {\"gridcolor\": \"white\", \"linecolor\": \"white\", \"ticks\": \"\"}}, \"scene\": {\"xaxis\": {\"backgroundcolor\": \"#E5ECF6\", \"gridcolor\": \"white\", \"gridwidth\": 2, \"linecolor\": \"white\", \"showbackground\": true, \"ticks\": \"\", \"zerolinecolor\": \"white\"}, \"yaxis\": {\"backgroundcolor\": \"#E5ECF6\", \"gridcolor\": \"white\", \"gridwidth\": 2, \"linecolor\": \"white\", \"showbackground\": true, \"ticks\": \"\", \"zerolinecolor\": \"white\"}, \"zaxis\": {\"backgroundcolor\": \"#E5ECF6\", \"gridcolor\": \"white\", \"gridwidth\": 2, \"linecolor\": \"white\", \"showbackground\": true, \"ticks\": \"\", \"zerolinecolor\": \"white\"}}, \"shapedefaults\": {\"line\": {\"color\": \"#2a3f5f\"}}, \"ternary\": {\"aaxis\": {\"gridcolor\": \"white\", \"linecolor\": \"white\", \"ticks\": \"\"}, \"baxis\": {\"gridcolor\": \"white\", \"linecolor\": \"white\", \"ticks\": \"\"}, \"bgcolor\": \"#E5ECF6\", \"caxis\": {\"gridcolor\": \"white\", \"linecolor\": \"white\", \"ticks\": \"\"}}, \"title\": {\"x\": 0.05}, \"xaxis\": {\"automargin\": true, \"gridcolor\": \"white\", \"linecolor\": \"white\", \"ticks\": \"\", \"title\": {\"standoff\": 15}, \"zerolinecolor\": \"white\", \"zerolinewidth\": 2}, \"yaxis\": {\"automargin\": true, \"gridcolor\": \"white\", \"linecolor\": \"white\", \"ticks\": \"\", \"title\": {\"standoff\": 15}, \"zerolinecolor\": \"white\", \"zerolinewidth\": 2}}}},                        {\"responsive\": true}                    ).then(function(){\n",
       "                            \n",
       "var gd = document.getElementById('82ba205c-adda-44ce-bef2-7dbcaf0375ad');\n",
       "var x = new MutationObserver(function (mutations, observer) {{\n",
       "        var display = window.getComputedStyle(gd).display;\n",
       "        if (!display || display === 'none') {{\n",
       "            console.log([gd, 'removed!']);\n",
       "            Plotly.purge(gd);\n",
       "            observer.disconnect();\n",
       "        }}\n",
       "}});\n",
       "\n",
       "// Listen for the removal of the full notebook cells\n",
       "var notebookContainer = gd.closest('#notebook-container');\n",
       "if (notebookContainer) {{\n",
       "    x.observe(notebookContainer, {childList: true});\n",
       "}}\n",
       "\n",
       "// Listen for the clearing of the current output cell\n",
       "var outputEl = gd.closest('.output');\n",
       "if (outputEl) {{\n",
       "    x.observe(outputEl, {childList: true});\n",
       "}}\n",
       "\n",
       "                        })                };                });            </script>        </div>"
      ]
     },
     "metadata": {},
     "output_type": "display_data"
    }
   ],
   "source": [
    "fig = go.Figure(data=[go.Table(\n",
    "    header=dict(values=['Rank', 'LASSO', 'LinearSVC(ICU)', 'LinearSVC(non-ICU)', 'LinearSVC(recovered)'],\n",
    "                fill_color='paleturquoise',\n",
    "                align='center'),\n",
    "    cells=dict(values=[x_label, name, name_icu, name_non_icu, name_recovered],\n",
    "               fill_color='lavender',\n",
    "               align='center'))\n",
    "])\n",
    "\n",
    "fig.show()"
   ]
  },
  {
   "cell_type": "markdown",
   "metadata": {},
   "source": [
    "#### Save the table above"
   ]
  },
  {
   "cell_type": "code",
   "execution_count": 20,
   "metadata": {},
   "outputs": [],
   "source": [
    "result = []\n",
    "result.append([\"Rank\", \"LASSO\", \"LinearSVC(ICU)\", \"LinearSVC(non-ICU)\", \"LinearSVC(recovered)\"])\n",
    "for i in range(0, len(x_label)):\n",
    "    step_result = []\n",
    "    step_result.append(x_label[i])\n",
    "    step_result.append(name[i])\n",
    "    step_result.append(name_icu[i])\n",
    "    step_result.append(name_non_icu[i])\n",
    "    step_result.append(name_recovered[i])\n",
    "    result.append(step_result) \n",
    "np.savetxt('D:\\\\COMP 495\\\\COVID-19\\\\COVID-19 project_Brodinlab\\\\Influence factor comparison(ICU VS non-ICU VS recovered).csv', result, delimiter=\",\", newline = \"\\n\", fmt=\"%s\")"
   ]
  },
  {
   "cell_type": "markdown",
   "metadata": {},
   "source": [
    "#### Calculate the correctness under different n_neighbors under each experiment(no feature selection + LASSO + LinearSVC)"
   ]
  },
  {
   "cell_type": "code",
   "execution_count": 51,
   "metadata": {},
   "outputs": [],
   "source": [
    "skf = model_selection.StratifiedKFold(n_splits=6, shuffle=True, random_state=None)\n",
    "knn_scores = []\n",
    "knn_scores_lasso = []\n",
    "knn_scores_lsvc = []\n",
    "for train_index, test_index in skf.split(database, label):\n",
    "    # no feature selection data\n",
    "    knn_score = []\n",
    "    database_train, database_test = database[train_index], database[test_index]\n",
    "    \n",
    "    # LASSO feature selection data\n",
    "    knn_score_lasso = []\n",
    "    database_train_lasso, database_test_lasso = model_lasso.transform(database[train_index]), model_lasso.transform(database[test_index])\n",
    "    \n",
    "    # LinearSVC feature selection data\n",
    "    knn_score_lsvc = []\n",
    "    database_train_lsvc, database_test_lsvc = model_svc.transform(database[train_index]), model_svc.transform(database[test_index])\n",
    "    \n",
    "    label_train, label_test = label[train_index], label[test_index]\n",
    "    \n",
    "    for n_neighbors in range(2, len(train_index)):\n",
    "        \n",
    "        knn = neighbors.KNeighborsClassifier(n_neighbors)\n",
    "        total_score = len(label_test)\n",
    "        \n",
    "        score = 0\n",
    "        knn.fit(database_train, label_train)\n",
    "        for i in range(0, len(test_index)):\n",
    "            result = knn.predict([database_test[i],])\n",
    "            if (result[0] == label_test[i]):\n",
    "                score = score + 1  \n",
    "        knn_score.append(score / total_score)\n",
    "        \n",
    "        score_lasso = 0\n",
    "        knn.fit(database_train_lasso, label_train)\n",
    "        for i in range(0, len(test_index)):\n",
    "            result = knn.predict([database_test_lasso[i],])\n",
    "            if (result[0] == label_test[i]):\n",
    "                score_lasso = score_lasso + 1  \n",
    "        knn_score_lasso.append(score_lasso / total_score)\n",
    "        \n",
    "        score_lsvc = 0\n",
    "        knn.fit(database_train_lsvc, label_train)\n",
    "        for i in range(0, len(test_index)):\n",
    "            result = knn.predict([database_test_lsvc[i],])\n",
    "            if (result[0] == label_test[i]):\n",
    "                score_lsvc = score_lsvc + 1  \n",
    "        knn_score_lsvc.append(score_lsvc / total_score)\n",
    "        \n",
    "    knn_scores.append(knn_score)\n",
    "    knn_scores_lasso.append(knn_score_lasso)\n",
    "    knn_scores_lsvc.append(knn_score_lsvc)"
   ]
  },
  {
   "cell_type": "markdown",
   "metadata": {},
   "source": [
    "#### Calculate the average correctness of the six experiments for each n_neighbors(no feature selection)"
   ]
  },
  {
   "cell_type": "code",
   "execution_count": 52,
   "metadata": {},
   "outputs": [],
   "source": [
    "average_scores = []\n",
    "\n",
    "for j in range(0, len(knn_scores[0])):\n",
    "    score = []\n",
    "    for i in range(0, 6):\n",
    "        score.append(knn_scores[i][j])\n",
    "    average_score = np.mean(score)\n",
    "    average_scores.append(average_score)\n",
    "    \n",
    "score = []\n",
    "for i in range(3, 6):\n",
    "    score.append(knn_scores[i][-1])\n",
    "average_score = np.mean(score)\n",
    "average_scores.append(average_score)\n"
   ]
  },
  {
   "cell_type": "markdown",
   "metadata": {},
   "source": [
    "#### Calculate the average correctness of the six experiments for each n_neighbors(LASSO)"
   ]
  },
  {
   "cell_type": "code",
   "execution_count": 53,
   "metadata": {},
   "outputs": [],
   "source": [
    "average_scores_lasso = []\n",
    "\n",
    "for j in range(0, len(knn_scores_lasso[0])):\n",
    "    score_lasso = []\n",
    "    for i in range(0, 6):\n",
    "        score_lasso.append(knn_scores_lasso[i][j])\n",
    "    average_score_lasso = np.mean(score_lasso)\n",
    "    average_scores_lasso.append(average_score_lasso)\n",
    "    \n",
    "score_lasso = []\n",
    "for i in range(3, 6):\n",
    "    score_lasso.append(knn_scores_lasso[i][-1])\n",
    "average_score_lasso = np.mean(score_lasso)\n",
    "average_scores_lasso.append(average_score_lasso)"
   ]
  },
  {
   "cell_type": "markdown",
   "metadata": {},
   "source": [
    "#### Calculate the average correctness of the six experiments for each n_neighbors(LinearSVC)"
   ]
  },
  {
   "cell_type": "code",
   "execution_count": 54,
   "metadata": {},
   "outputs": [],
   "source": [
    "average_scores_lsvc = []\n",
    "\n",
    "for j in range(0, len(knn_scores_lsvc[0])):\n",
    "    score_lsvc = []\n",
    "    for i in range(0, 6):\n",
    "        score_lsvc.append(knn_scores_lsvc[i][j])\n",
    "    average_score_lsvc = np.mean(score_lsvc)\n",
    "    average_scores_lsvc.append(average_score_lsvc)\n",
    "    \n",
    "score_lsvc = []\n",
    "for i in range(3, 6):\n",
    "    score_lsvc.append(knn_scores_lsvc[i][-1])\n",
    "average_score_lsvc = np.mean(score_lsvc)\n",
    "average_scores_lsvc.append(average_score_lsvc)"
   ]
  },
  {
   "cell_type": "markdown",
   "metadata": {},
   "source": [
    "#### Pick out the opimal n_neighbors in terms of average correctness"
   ]
  },
  {
   "cell_type": "code",
   "execution_count": 55,
   "metadata": {},
   "outputs": [
    {
     "name": "stdout",
     "output_type": "stream",
     "text": [
      "[0.7772727272727272, 0.8106060606060607, 0.7803030303030304, 0.7636363636363636, 0.7318181818181818, 0.7318181818181818, 0.7651515151515151, 0.7318181818181818, 0.6681818181818183, 0.703030303030303, 0.6848484848484849, 0.6863636363636364, 0.7015151515151515, 0.7015151515151515, 0.6848484848484849, 0.6696969696969698, 0.7166666666666667, 0.7000000000000001, 0.653030303030303, 0.6696969696969696, 0.6848484848484849, 0.6848484848484849, 0.6515151515151516, 0.6515151515151516, 0.6515151515151516, 0.6515151515151516, 0.6515151515151516, 0.6515151515151516, 0.6515151515151516, 0.6515151515151516, 0.6515151515151516, 0.6515151515151516, 0.6515151515151516, 0.6515151515151516, 0.6515151515151516, 0.6515151515151516, 0.6515151515151516, 0.6515151515151516, 0.6515151515151516, 0.6515151515151516, 0.6515151515151516, 0.6515151515151516, 0.6515151515151516, 0.6515151515151516, 0.6515151515151516, 0.6515151515151516, 0.6515151515151516, 0.6515151515151516, 0.6515151515151516, 0.6515151515151516, 0.6666666666666666]\n",
      "KNN(no feature selection) prefers n_neighbors = 3\n"
     ]
    }
   ],
   "source": [
    "print(average_scores)\n",
    "n_neighbors = np.argmax(average_scores) + 2\n",
    "print(\"KNN(no feature selection) prefers n_neighbors = \" + str(n_neighbors))"
   ]
  },
  {
   "cell_type": "code",
   "execution_count": 56,
   "metadata": {},
   "outputs": [
    {
     "name": "stdout",
     "output_type": "stream",
     "text": [
      "[0.7772727272727272, 0.8106060606060607, 0.7803030303030304, 0.7484848484848484, 0.7151515151515152, 0.7621212121212122, 0.7636363636363637, 0.7166666666666667, 0.6681818181818183, 0.7348484848484849, 0.6848484848484849, 0.7181818181818181, 0.7181818181818181, 0.7015151515151515, 0.7000000000000001, 0.7000000000000001, 0.7000000000000001, 0.7000000000000001, 0.7015151515151515, 0.7015151515151515, 0.6848484848484849, 0.6515151515151516, 0.6515151515151516, 0.6515151515151516, 0.6515151515151516, 0.6515151515151516, 0.6515151515151516, 0.6515151515151516, 0.6515151515151516, 0.6515151515151516, 0.6515151515151516, 0.6515151515151516, 0.6515151515151516, 0.6515151515151516, 0.6515151515151516, 0.6515151515151516, 0.6515151515151516, 0.6515151515151516, 0.6515151515151516, 0.6515151515151516, 0.6515151515151516, 0.6515151515151516, 0.6515151515151516, 0.6515151515151516, 0.6515151515151516, 0.6515151515151516, 0.6515151515151516, 0.6515151515151516, 0.6515151515151516, 0.6515151515151516, 0.6666666666666666]\n",
      "KNN(LASSO) prefers n_neighbors = 3\n"
     ]
    }
   ],
   "source": [
    "print(average_scores_lasso)\n",
    "n_neighbors_lasso = np.argmax(average_scores_lasso) + 2\n",
    "print(\"KNN(LASSO) prefers n_neighbors = \" + str(n_neighbors_lasso))"
   ]
  },
  {
   "cell_type": "code",
   "execution_count": 57,
   "metadata": {},
   "outputs": [
    {
     "name": "stdout",
     "output_type": "stream",
     "text": [
      "[0.7803030303030303, 0.7787878787878788, 0.7651515151515151, 0.7621212121212121, 0.7318181818181818, 0.7000000000000001, 0.7166666666666667, 0.7166666666666667, 0.6515151515151515, 0.6863636363636364, 0.7000000000000001, 0.7015151515151515, 0.7166666666666667, 0.715151515151515, 0.7166666666666667, 0.6848484848484849, 0.7166666666666667, 0.7015151515151515, 0.6696969696969696, 0.6363636363636362, 0.6848484848484849, 0.6348484848484849, 0.6515151515151516, 0.6363636363636364, 0.6515151515151516, 0.6515151515151516, 0.6515151515151516, 0.6515151515151516, 0.6515151515151516, 0.6515151515151516, 0.6515151515151516, 0.6515151515151516, 0.6515151515151516, 0.6515151515151516, 0.6515151515151516, 0.6515151515151516, 0.6515151515151516, 0.6515151515151516, 0.6515151515151516, 0.6515151515151516, 0.6515151515151516, 0.6515151515151516, 0.6515151515151516, 0.6515151515151516, 0.6515151515151516, 0.6515151515151516, 0.6515151515151516, 0.6515151515151516, 0.6515151515151516, 0.6515151515151516, 0.6666666666666666]\n",
      "KNN(LinearSVC) prefers n_neighbors = 2\n"
     ]
    }
   ],
   "source": [
    "print(average_scores_lsvc)\n",
    "n_neighbors_lsvc = np.argmax(average_scores_lsvc) + 2\n",
    "print(\"KNN(LinearSVC) prefers n_neighbors = \" + str(n_neighbors_lsvc))"
   ]
  },
  {
   "cell_type": "markdown",
   "metadata": {},
   "source": [
    "#### KNN correctness on the test set using the optimized n_neighbors(no feature selection)"
   ]
  },
  {
   "cell_type": "code",
   "execution_count": 58,
   "metadata": {},
   "outputs": [
    {
     "name": "stdout",
     "output_type": "stream",
     "text": [
      "ICU patient: is determined to be a ICU patient\n",
      "ICU patient: is determined to be a ICU patient\n",
      "ICU patient: is determined to be a ICU patient\n",
      "ICU patient: is determined to be a ICU patient\n",
      "ICU patient: is determined to be a ICU patient\n",
      "ICU patient: is determined to be a recovered patient\n",
      "ICU patient: is determined to be a recovered patient\n",
      "ICU patient: is determined to be a ICU patient\n",
      "ICU patient: is determined to be a ICU patient\n",
      "ICU patient: is determined to be a ICU patient\n",
      "ICU patient: is determined to be a ICU patient\n",
      "non_ICU patient: is determined to be a ICU patient\n",
      "non_ICU patient: is determined to be a ICU patient\n",
      "recovered patient: is determined to be a recovered patient\n",
      "recovered patient: is determined to be a recovered patient\n",
      "recovered patient: is determined to be a non-ICU patient\n",
      "recovered patient: is determined to be a ICU patient\n",
      "\n",
      "KNN score(without demension reduction): 64.71\n"
     ]
    }
   ],
   "source": [
    "# create the model\n",
    "knn = neighbors.KNeighborsClassifier(n_neighbors)\n",
    "\n",
    "# fit the model\n",
    "knn.fit(database, label)\n",
    "\n",
    "total_score = ICU_patients_datas_validation.shape[0] + non_ICU_patients_datas_validation.shape[0] + recovered_patients_datas_validation.shape[0]\n",
    "knn_score = 0\n",
    "\n",
    "for i in range(0, ICU_patients_datas_validation.shape[0]):\n",
    "    result = knn.predict([ICU_patients_datas_validation[i],])\n",
    "    print(\"ICU patient: is determined to be a \" + result[0] + \" patient\")\n",
    "    if (result[0] == 'ICU'):\n",
    "        knn_score = knn_score + 1\n",
    "\n",
    "for i in range(0, non_ICU_patients_datas_validation.shape[0]):\n",
    "    result = knn.predict([non_ICU_patients_datas_validation[i],])\n",
    "    print(\"non_ICU patient: is determined to be a \" + result[0] + \" patient\")\n",
    "    if (result[0] == 'non-ICU'):\n",
    "        knn_score = knn_score + 1\n",
    "\n",
    "for i in range(0, recovered_patients_datas_validation.shape[0]):\n",
    "    result = knn.predict([recovered_patients_datas_validation[i],])\n",
    "    print(\"recovered patient: is determined to be a \" + result[0] + \" patient\")\n",
    "    if (result[0] == 'recovered'):\n",
    "        knn_score = knn_score + 1\n",
    "\n",
    "score = round(100 * knn_score / total_score, 2)\n",
    "\n",
    "print()\n",
    "print(\"KNN score(without demension reduction): \" + str(score))"
   ]
  },
  {
   "cell_type": "markdown",
   "metadata": {},
   "source": [
    "#### KNN correctness on the test set using the optimized n_neighbors(LASSO)"
   ]
  },
  {
   "cell_type": "code",
   "execution_count": 59,
   "metadata": {},
   "outputs": [
    {
     "name": "stdout",
     "output_type": "stream",
     "text": [
      "ICU patient: is determined to be a ICU patient\n",
      "ICU patient: is determined to be a ICU patient\n",
      "ICU patient: is determined to be a ICU patient\n",
      "ICU patient: is determined to be a ICU patient\n",
      "ICU patient: is determined to be a ICU patient\n",
      "ICU patient: is determined to be a recovered patient\n",
      "ICU patient: is determined to be a recovered patient\n",
      "ICU patient: is determined to be a ICU patient\n",
      "ICU patient: is determined to be a ICU patient\n",
      "ICU patient: is determined to be a ICU patient\n",
      "ICU patient: is determined to be a ICU patient\n",
      "non_ICU patient: is determined to be a ICU patient\n",
      "non_ICU patient: is determined to be a ICU patient\n",
      "recovered patient: is determined to be a recovered patient\n",
      "recovered patient: is determined to be a recovered patient\n",
      "recovered patient: is determined to be a non-ICU patient\n",
      "recovered patient: is determined to be a ICU patient\n",
      "\n",
      "KNN score(LASSO): 64.71\n"
     ]
    }
   ],
   "source": [
    "# create the model\n",
    "knn = neighbors.KNeighborsClassifier(n_neighbors_lasso)\n",
    "\n",
    "# fit the model\n",
    "knn.fit(model_lasso.transform(database), label)\n",
    "\n",
    "total_score = ICU_patients_datas_validation.shape[0] + non_ICU_patients_datas_validation.shape[0] + recovered_patients_datas_validation.shape[0]\n",
    "knn_score_lasso = 0\n",
    "\n",
    "for i in range(0, ICU_patients_datas_validation.shape[0]):\n",
    "    result = knn.predict([model_lasso.transform(ICU_patients_datas_validation)[i],])\n",
    "    print(\"ICU patient: is determined to be a \" + result[0] + \" patient\")\n",
    "    if (result[0] == 'ICU'):\n",
    "        knn_score_lasso = knn_score_lasso + 1\n",
    "\n",
    "for i in range(0, non_ICU_patients_datas_validation.shape[0]):\n",
    "    result = knn.predict([model_lasso.transform(non_ICU_patients_datas_validation)[i],])\n",
    "    print(\"non_ICU patient: is determined to be a \" + result[0] + \" patient\")\n",
    "    if (result[0] == 'non-ICU'):\n",
    "        knn_score_lasso = knn_score_lasso + 1\n",
    "\n",
    "for i in range(0, recovered_patients_datas_validation.shape[0]):\n",
    "    result = knn.predict([model_lasso.transform(recovered_patients_datas_validation)[i],])\n",
    "    print(\"recovered patient: is determined to be a \" + result[0] + \" patient\")\n",
    "    if (result[0] == 'recovered'):\n",
    "        knn_score_lasso = knn_score_lasso + 1\n",
    "\n",
    "score_lasso = round(100 * knn_score_lasso / total_score, 2)\n",
    "\n",
    "print()\n",
    "print(\"KNN score(LASSO): \" + str(score_lasso))"
   ]
  },
  {
   "cell_type": "markdown",
   "metadata": {},
   "source": [
    "#### KNN correctness on the test set using the optimized n_neighbors(LinearSVC)"
   ]
  },
  {
   "cell_type": "code",
   "execution_count": 60,
   "metadata": {},
   "outputs": [
    {
     "name": "stdout",
     "output_type": "stream",
     "text": [
      "ICU patient: is determined to be a ICU patient\n",
      "ICU patient: is determined to be a ICU patient\n",
      "ICU patient: is determined to be a ICU patient\n",
      "ICU patient: is determined to be a ICU patient\n",
      "ICU patient: is determined to be a ICU patient\n",
      "ICU patient: is determined to be a recovered patient\n",
      "ICU patient: is determined to be a non-ICU patient\n",
      "ICU patient: is determined to be a non-ICU patient\n",
      "ICU patient: is determined to be a ICU patient\n",
      "ICU patient: is determined to be a ICU patient\n",
      "ICU patient: is determined to be a ICU patient\n",
      "non_ICU patient: is determined to be a ICU patient\n",
      "non_ICU patient: is determined to be a ICU patient\n",
      "recovered patient: is determined to be a recovered patient\n",
      "recovered patient: is determined to be a recovered patient\n",
      "recovered patient: is determined to be a non-ICU patient\n",
      "recovered patient: is determined to be a ICU patient\n",
      "\n",
      "KNN score(LinearSVC): 58.82\n"
     ]
    }
   ],
   "source": [
    "# create the model\n",
    "knn = neighbors.KNeighborsClassifier(n_neighbors_lsvc)\n",
    "\n",
    "# fit the model\n",
    "knn.fit(model_svc.transform(database), label)\n",
    "\n",
    "total_score = ICU_patients_datas_validation.shape[0] + non_ICU_patients_datas_validation.shape[0] + recovered_patients_datas_validation.shape[0]\n",
    "knn_score_lsvc = 0\n",
    "\n",
    "for i in range(0, ICU_patients_datas_validation.shape[0]):\n",
    "    result = knn.predict([model_svc.transform(ICU_patients_datas_validation)[i],])\n",
    "    print(\"ICU patient: is determined to be a \" + result[0] + \" patient\")\n",
    "    if (result[0] == 'ICU'):\n",
    "        knn_score_lsvc = knn_score_lsvc + 1\n",
    "\n",
    "for i in range(0, non_ICU_patients_datas_validation.shape[0]):\n",
    "    result = knn.predict([model_svc.transform(non_ICU_patients_datas_validation)[i],])\n",
    "    print(\"non_ICU patient: is determined to be a \" + result[0] + \" patient\")\n",
    "    if (result[0] == 'non-ICU'):\n",
    "        knn_score_lsvc = knn_score_lsvc + 1\n",
    "\n",
    "for i in range(0, recovered_patients_datas_validation.shape[0]):\n",
    "    result = knn.predict([model_svc.transform(recovered_patients_datas_validation)[i],])\n",
    "    print(\"recovered patient: is determined to be a \" + result[0] + \" patient\")\n",
    "    if (result[0] == 'recovered'):\n",
    "        knn_score_lsvc = knn_score_lsvc + 1\n",
    "\n",
    "score_lsvc = round(100 * knn_score_lsvc / total_score, 2)\n",
    "\n",
    "print()\n",
    "print(\"KNN score(LinearSVC): \" + str(score_lsvc))"
   ]
  },
  {
   "cell_type": "code",
   "execution_count": null,
   "metadata": {},
   "outputs": [],
   "source": []
  }
 ],
 "metadata": {
  "kernelspec": {
   "display_name": "Python 3",
   "language": "python",
   "name": "python3"
  },
  "language_info": {
   "codemirror_mode": {
    "name": "ipython",
    "version": 3
   },
   "file_extension": ".py",
   "mimetype": "text/x-python",
   "name": "python",
   "nbconvert_exporter": "python",
   "pygments_lexer": "ipython3",
   "version": "3.6.10"
  }
 },
 "nbformat": 4,
 "nbformat_minor": 4
}
